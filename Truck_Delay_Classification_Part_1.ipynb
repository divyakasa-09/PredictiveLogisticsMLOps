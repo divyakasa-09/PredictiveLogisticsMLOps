{
 "cells": [
  {
   "cell_type": "markdown",
   "metadata": {
    "id": "J8rxB6ds2BQl"
   },
   "source": [
    "# **Build End-to-End ML Pipeline for Truck Delay Classification**\n",
    "\n",
    "\n",
    "The project addresses a critical challenge faced by the logistics industry. Delayed truck shipments not only result in increased operational costs but also impact customer satisfaction. Timely delivery of goods is essential to meet customer expectations and maintain the competitiveness of logistics companies.\n",
    "By accurately predicting truck delays, logistics companies can:\n",
    "* Improve operational efficiency by allocating resources more effectively.\n",
    "* Enhance customer satisfaction by providing more reliable delivery schedules.\n",
    "* Optimize route planning to reduce delays caused by traffic or adverse weather conditions.\n",
    "* Reduce costs associated with delayed shipments, such as penalties or compensation to customers.\n",
    "\n",
    " In this initial phase, we will utilize PostgreSQL and MYSQL in AWS Redshift to store the data, perform data retrieval, and conduct basic exploratory data analysis (EDA). With Hopsworks feature store, we will build a pipeline that includes data processing feature engineering and prepare the data for model building.\n",
    "\n",
    "![image.png](https://images.pexels.com/photos/2199293/pexels-photo-2199293.jpeg?auto=compress&cs=tinysrgb&w=1260&h=750&dpr=1)\n"
   ]
  },
  {
   "cell_type": "markdown",
   "metadata": {
    "id": "ADfznpU71p1A"
   },
   "source": [
    "## **Approach**\n",
    "\n",
    "\n",
    "* Introduction to End-to-End Pipelines:\n",
    "  * Understanding the fundamental concepts and importance of end-to-end pipelines\n",
    "\n",
    "\n",
    "* Database Setup:\n",
    "  * Creating AWS RDS instances for MySQL and PostgreSQL\n",
    "  * Setting up MySQL Workbench and pgAdmin4 for database management\n",
    "\n",
    "\n",
    "* Data Analysis:\n",
    "  * Performing data analysis using SQL on MySQL Workbench and pgAdmin4\n",
    "\n",
    "\n",
    "* AWS SageMaker Setup\n",
    "\n",
    "\n",
    "* Exploratory Data Analysis (EDA):\n",
    "  * Conducting exploratory data analysis to understand essential features and the dataset's characteristics\n",
    "\n",
    "\n",
    "* Feature Store:\n",
    "  * Understanding the concept of a feature store and its significance in machine learning projects\n",
    "  * Understanding how Hopsworks works to facilitate project creation and feature group management\n",
    "\n",
    "\n",
    "* Data Retrieval from Feature Stores\n",
    "\n",
    "* Fetching data from feature stores for further analysis\n",
    "\n",
    "\n",
    "* Data Preprocessing and Feature Engineering\n",
    "\n",
    "\n",
    "* Data Storage:\n",
    "  * Storing the final engineered features in the feature store for easy access and consistency\n",
    "\n"
   ]
  },
  {
   "cell_type": "markdown",
   "metadata": {
    "id": "UeL6w5Ze2AA_"
   },
   "source": [
    "## **Data Fetching**"
   ]
  },
  {
   "cell_type": "markdown",
   "metadata": {
    "id": "nqvj9EI82B0i"
   },
   "source": [
    "## **Postgres to Python Connector**"
   ]
  },
  {
   "cell_type": "code",
   "execution_count": null,
   "metadata": {
    "colab": {
     "base_uri": "https://localhost:8080/"
    },
    "id": "1eY2UJXO10Ra",
    "outputId": "be01a122-424a-44e3-aaf5-bf1355c35f32"
   },
   "outputs": [],
   "source": [
    "!pip install psycopg2==2.9.7"
   ]
  },
  {
   "cell_type": "code",
   "execution_count": null,
   "metadata": {
    "id": "sWXjIe--2GlQ"
   },
   "outputs": [],
   "source": [
    "# Import the psycopg2 library for PostgreSQL connection\n",
    "import psycopg2\n",
    "\n",
    "# Import the pandas library for data manipulation\n",
    "import pandas as pd\n",
    "\n",
    "# Establish a connection to the PostgreSQL database\n",
    "postgres_connection = psycopg2.connect(\n",
    "    user=\"postgres\",             # PostgreSQL username\n",
    "    password=\"your_passowrd\",    # Password for the database\n",
    "    host=\"host_id.rds.amazonaws.com\",   # Host ID of the RDS instance\n",
    "    database=\"DB\",               # Name of the database\n",
    "    port=\"5432\"                  # Port number for PostgreSQL\n",
    ")\n"
   ]
  },
  {
   "cell_type": "markdown",
   "metadata": {
    "id": "26vK_YvC2NQX"
   },
   "source": [
    "### Retrieve City details data from database\n",
    "*   Database - Postgres\n",
    "*   Table name - routes_details"
   ]
  },
  {
   "cell_type": "code",
   "execution_count": null,
   "metadata": {
    "colab": {
     "base_uri": "https://localhost:8080/",
     "height": 243
    },
    "id": "-KHxHPXN2Mnt",
    "outputId": "5b99aabe-c655-404f-bb36-d02d7128baf4"
   },
   "outputs": [],
   "source": [
    "# Read data from the \"routes_details\" table in the PostgreSQL database\n",
    "routes_df = pd.read_sql(\"Select * from routes_details\", postgres_connection)\n",
    "\n",
    "# Display the first few rows of the routes dataframe\n",
    "routes_df.head()\n"
   ]
  },
  {
   "cell_type": "markdown",
   "metadata": {
    "id": "CyTbrN6f2UVv"
   },
   "source": [
    "### Retrieve Route details data from database\n",
    "*   Database - Postgres\n",
    "*   Table name - route_details"
   ]
  },
  {
   "cell_type": "code",
   "execution_count": null,
   "metadata": {
    "colab": {
     "base_uri": "https://localhost:8080/",
     "height": 243
    },
    "id": "u0Kpkc3n2YBW",
    "outputId": "62494af5-29a3-441a-eb6a-404b64a55c31"
   },
   "outputs": [],
   "source": [
    "# Read data from the \"routes_weather\" table in the PostgreSQL database\n",
    "route_weather = pd.read_sql(\"Select * from routes_weather\", postgres_connection)\n",
    "\n",
    "# Display the first few rows of the route weather dataframe\n",
    "route_weather.head()\n"
   ]
  },
  {
   "cell_type": "code",
   "execution_count": null,
   "metadata": {
    "id": "ccFaIchSTvVD"
   },
   "outputs": [],
   "source": [
    "# Rename the column for consistency\n",
    "route_weather=route_weather.rename(columns={'Date':'date'})"
   ]
  },
  {
   "cell_type": "markdown",
   "metadata": {
    "id": "-sMrWt6j2htL"
   },
   "source": [
    "## MySQL to Python Connector"
   ]
  },
  {
   "cell_type": "code",
   "execution_count": null,
   "metadata": {
    "colab": {
     "base_uri": "https://localhost:8080/"
    },
    "id": "pwsgFNZw2pOg",
    "outputId": "f3dc83ad-1463-481b-d94b-e198a3dc59f6"
   },
   "outputs": [],
   "source": [
    "!pip install pymysql==1.1.0"
   ]
  },
  {
   "cell_type": "code",
   "execution_count": null,
   "metadata": {
    "id": "4-fDyFqBPgf-"
   },
   "outputs": [],
   "source": [
    "# Import the pymysql library for MySQL connection\n",
    "import pymysql\n",
    "\n",
    "# Import the numpy library and alias it as np\n",
    "import numpy as np\n",
    "\n",
    "# Establish a connection to the MySQL database\n",
    "mysql_connection = pymysql.connect(\n",
    "     host = \"host_id.rds.amazonaws.com\",  # Host ID of the RDS instance\n",
    "     user = \"admin\",                       # MySQL username\n",
    "     password = \"your_password\",           # Password for the database\n",
    "     database = \"DB\"                       # Name of the database\n",
    ")\n"
   ]
  },
  {
   "cell_type": "markdown",
   "metadata": {
    "id": "ioZmRJyP2qEw"
   },
   "source": [
    "### Retrieve Driver details data from database\n",
    "*   Database - MySQL\n",
    "*   Table name - driver_details"
   ]
  },
  {
   "cell_type": "code",
   "execution_count": null,
   "metadata": {
    "colab": {
     "base_uri": "https://localhost:8080/",
     "height": 149
    },
    "id": "VwdM2thl2sLG",
    "outputId": "01347d5f-6c30-4f9b-9386-a5db7bb1f8e8"
   },
   "outputs": [],
   "source": [
    "# Read data from the \"drivers_details\" table in the MySQL database\n",
    "drivers_df = pd.read_sql(\"Select * from drivers_details\", mysql_connection)\n",
    "\n",
    "# Display the first two rows of the drivers dataframe\n",
    "drivers_df.head(2)\n"
   ]
  },
  {
   "cell_type": "markdown",
   "metadata": {
    "id": "1YRTjSwX2wnG"
   },
   "source": [
    "### Retrieve Truck details data from database\n",
    "*   Database - MySQL\n",
    "*   Table name - truck_details"
   ]
  },
  {
   "cell_type": "code",
   "execution_count": null,
   "metadata": {
    "colab": {
     "base_uri": "https://localhost:8080/",
     "height": 243
    },
    "id": "0N2SFPvT2wSd",
    "outputId": "f92f5bee-9f7d-4385-ac37-7d024907199e"
   },
   "outputs": [],
   "source": [
    "# Read data from the \"truck_details\" table in the MySQL database\n",
    "trucks_df = pd.read_sql(\"Select * from truck_details\", mysql_connection)\n",
    "\n",
    "# Display the first few rows of the trucks dataframe\n",
    "trucks_df.head()\n"
   ]
  },
  {
   "cell_type": "markdown",
   "metadata": {
    "id": "AmF0eXl43LC7"
   },
   "source": [
    "### Retrieve Driver details data from database\n",
    "*   Database - MySQL\n",
    "*   Table name - traffic_details"
   ]
  },
  {
   "cell_type": "code",
   "execution_count": null,
   "metadata": {
    "colab": {
     "base_uri": "https://localhost:8080/",
     "height": 243
    },
    "id": "ytRs5pLb232O",
    "outputId": "1bee0444-1512-43d8-a482-18afa7715d5d"
   },
   "outputs": [],
   "source": [
    "# Read data from the \"traffic_details\" table in the MySQL database\n",
    "traffic_df = pd.read_sql(\"Select * from traffic_details\", mysql_connection)\n",
    "\n",
    "# Display the first few rows of the traffic dataframe\n",
    "traffic_df.head()\n"
   ]
  },
  {
   "cell_type": "markdown",
   "metadata": {
    "id": "kfQRZkR43MFQ"
   },
   "source": [
    "### Retrieve Driver details data from database\n",
    "*   Database - MySQL\n",
    "*   Table name - truck_schedule_data"
   ]
  },
  {
   "cell_type": "code",
   "execution_count": null,
   "metadata": {
    "id": "rs0zIh1W26b-"
   },
   "outputs": [],
   "source": [
    "# Read data from the \"truck_schedule_data\" table in the MySQL database\n",
    "schedule_df = pd.read_sql(\"Select * from truck_schedule_data\", mysql_connection)\n",
    "\n",
    "# Display the first few rows of the schedule dataframe\n",
    "schedule_df.head()\n"
   ]
  },
  {
   "cell_type": "markdown",
   "metadata": {
    "id": "BWw7DYAI29Z3"
   },
   "source": [
    "### Retrieve Driver details data from database\n",
    "*   Database - MySQL\n",
    "*   Table name - city_weather"
   ]
  },
  {
   "cell_type": "code",
   "execution_count": null,
   "metadata": {
    "colab": {
     "base_uri": "https://localhost:8080/",
     "height": 243
    },
    "id": "qvmMsHeJ298L",
    "outputId": "01c0bc25-ae84-4870-db85-9af06888b773"
   },
   "outputs": [],
   "source": [
    "# Read data from the \"city_weather\" table in the MySQL database\n",
    "weather_df = pd.read_sql(\"Select * from city_weather\", mysql_connection)\n",
    "\n",
    "# Display the first few rows of the weather dataframe\n",
    "weather_df.head()\n"
   ]
  },
  {
   "cell_type": "markdown",
   "metadata": {
    "id": "9pIJa3_qSWnP"
   },
   "source": [
    "## **Exploratory Data Analysis**\n",
    "Exploratory Data Analysis, commonly known as EDA, is a technique to analyze the data with visuals. It involves using statistics and visual techniques to identify particular trends in data.\n",
    "\n",
    "It is used to understand data patterns, spot anomalies, check assumptions, etc. The main purpose of EDA is to help look into the data before making any hypothesis about it.\n"
   ]
  },
  {
   "cell_type": "code",
   "execution_count": null,
   "metadata": {
    "id": "IzDcDUMEPmyq"
   },
   "outputs": [],
   "source": [
    "# Import Libraries\n",
    "\n",
    "# !pip install matplotlib==3.7.1\n",
    "# !pip install seaborn==0.12.2\n",
    "import matplotlib.pyplot as plt\n",
    "import seaborn as sns\n",
    "import warnings\n",
    "warnings.filterwarnings(\"ignore\")\n",
    "pd.set_option('display.max_columns', 500)"
   ]
  },
  {
   "cell_type": "code",
   "execution_count": null,
   "metadata": {
    "id": "8a762S8KUbwK"
   },
   "outputs": [],
   "source": [
    "# Change dates to datetime\n",
    "weather_df['date'] = pd.to_datetime(weather_df['date'])\n",
    "route_weather['date'] = pd.to_datetime(route_weather['date'])\n",
    "traffic_df['date'] = pd.to_datetime(traffic_df['date'])\n",
    "schedule_df['departure_date'] = pd.to_datetime(schedule_df['departure_date'])\n",
    "schedule_df['estimated_arrival'] = pd.to_datetime(schedule_df['estimated_arrival'])\n",
    "route_weather['date'] = pd.to_datetime(route_weather['date'])"
   ]
  },
  {
   "cell_type": "markdown",
   "metadata": {
    "id": "pJdFFhGWTJx4"
   },
   "source": [
    "### **Driver's Data Analysis**"
   ]
  },
  {
   "cell_type": "code",
   "execution_count": null,
   "metadata": {
    "colab": {
     "base_uri": "https://localhost:8080/",
     "height": 112
    },
    "id": "MOcOqCVHTC1g",
    "outputId": "6d46bb9b-8329-4a49-96ef-dcd553615157"
   },
   "outputs": [],
   "source": [
    "# Driver's data\n",
    "drivers_df.head(2)"
   ]
  },
  {
   "cell_type": "code",
   "execution_count": null,
   "metadata": {
    "colab": {
     "base_uri": "https://localhost:8080/"
    },
    "id": "SJMwjyBcTIGI",
    "outputId": "890aa1fb-2df8-4881-c013-78135923c2ba"
   },
   "outputs": [],
   "source": [
    "# Driver's data info\n",
    "drivers_df.info()"
   ]
  },
  {
   "cell_type": "markdown",
   "metadata": {
    "id": "b3gNakV6TWU_"
   },
   "source": [
    "Gender and driving styles have some missing values\n",
    "\n",
    "Dtypes seem to be in order"
   ]
  },
  {
   "cell_type": "code",
   "execution_count": null,
   "metadata": {
    "colab": {
     "base_uri": "https://localhost:8080/",
     "height": 394
    },
    "id": "S4jo2F1oTZub",
    "outputId": "b039396a-7091-44ca-e871-cd33968e51ba"
   },
   "outputs": [],
   "source": [
    "# statistics of various columns\n",
    "drivers_df.describe(include='all')"
   ]
  },
  {
   "cell_type": "markdown",
   "metadata": {
    "id": "1MXzvhcFNGyi"
   },
   "source": [
    "### **Distribution Plots**\n",
    "\n",
    "Distribution plots are graphical representations that show the distribution of a set of numerical data. These plots are used to gain insight into the characteristics of the data, such as the central tendency, spread, and skewness. There are several types of distribution plots, including histograms, density plots, box plots, and violin plots.\n",
    "\n",
    "* A histogram is a bar graph that represents the frequency distribution of a set of data. It shows how many data points fall into each range of values or bin. The bars in the histogram represent the frequency of data points within a given range, and the height of each bar represents the number of data points in that bin.\n",
    "\n",
    "* A density plot is a smoothed representation of the distribution of the data, which is calculated by fitting a probability density function to the histogram of the data. It shows the shape of the distribution and provides a visual representation of the relative density of the data at different values.\n",
    "\n",
    "* A box plot, also known as a box-and-whisker plot, is a graphical representation of the distribution of a set of data. It shows the median, quartiles, and outliers of the data in a compact and easily interpretable format. The box in the plot represents the interquartile range (IQR), which is the range between the first and third quartile. The whiskers extend from the box to the minimum and maximum values of the data, and any outliers are plotted as individual points outside the whiskers.\n",
    "\n",
    "* A violin plot is a combination of a density plot and a box plot, showing the density of the data along the y-axis and the distribution along the x-axis. It shows the distribution of the data in a compact format, and provides information on the central tendency, spread, and skewness of the data.\n",
    "\n",
    "* Distribution plots are an important tool for exploratory data analysis and can help in understanding the distribution of the data, identifying patterns and outliers, and making informed decisions about the data. They provide a visual representation of the data and can be used to identify potential issues with the data, such as non-normality or outliers."
   ]
  },
  {
   "cell_type": "code",
   "execution_count": null,
   "metadata": {
    "colab": {
     "base_uri": "https://localhost:8080/",
     "height": 1000
    },
    "id": "Ep8QowsZTiVq",
    "outputId": "d758d999-af6d-44d8-bda9-97338e1d4b98"
   },
   "outputs": [],
   "source": [
    "# List of numerical columns to visualize\n",
    "drivers_num_cols = ['age', 'experience', 'ratings', 'average_speed_mph']\n",
    "\n",
    "# Loop through each numerical column and create histograms with KDE\n",
    "for col in drivers_num_cols:\n",
    "    plt.figure(figsize=(10, 5))\n",
    "\n",
    "    # Create a histogram with KDE using seaborn\n",
    "    sns.histplot(drivers_df[col], bins=30, kde=True)\n",
    "    # Set the title\n",
    "    plt.title(f'{col} distribution')\n",
    "    # Set the label for the x-axis\n",
    "    plt.xlabel(f'{col}')\n",
    "    plt.show()"
   ]
  },
  {
   "cell_type": "markdown",
   "metadata": {
    "id": "S8wRNGgoT_sL"
   },
   "source": [
    "#### Age:\n",
    "\n",
    "The distribution of drivers' ages is approximately normally distributed, with the majority of drivers falling in the range of 45 to 50 years.\n",
    "\n",
    "Recommendation: While it's true that older drivers may have more experience, they may also be more susceptible to fatigue or health-related issues. Assign routes based on the driver's experience level and health conditions. Longer and more complex routes may be more demanding and tiring, which may lead to delay.\n",
    "\n",
    "Implement appropriate rest break policies and adhere to regulations regarding maximum working hours. Ensuring sufficient rest periods during and between routes can help prevent driver fatigue.\n",
    "\n",
    "Provide drivers with training on proper driving techniques\n",
    "\n",
    "Consider rotating drivers on different types of routes to avoid monotony and reduce the impact of repetitive tasks\n",
    "\n",
    "#### Experience:\n",
    "\n",
    "The distribution of driver experience is right-skewed, with most drivers having experience between 5 to 50 years.\n",
    "\n",
    "Recommendation: The company could analyze the performance metrics of drivers with different experience levels to identify if there are any correlations between experience and driving efficiency. This analysis can help optimize driver assignment to different types of routes.\n",
    "\n",
    "\n",
    "#### Ratings:\n",
    "\n",
    "The significant count of ratings below 5 out of 10 suggests that there is a considerable proportion of drivers with lower ratings.\n",
    "\n",
    "Lower ratings may indicate potential issues with driver performance or customer satisfaction.\n",
    "\n",
    "Recommendation: The company should investigate the reasons behind lower ratings and take necessary steps to address driver performance, provide additional training, or offer incentives to improve driver ratings and enhance overall customer satisfaction.\n",
    "\n",
    "\n",
    "#### Average Speed:\n",
    "\n",
    "The bimodal distribution of average speeds, peaking around 45 and 60 mph, suggests the presence of two distinct groups of drivers with different driving styles.\n",
    "\n",
    "This bimodal pattern may indicate a split between drivers who adopt a more cautious driving style (lower average speed) and those who adopt a more aggressive driving style (higher average speed) both are not recommended.\n",
    "\n",
    "Recommendation: The company can consider categorizing drivers based on their average speed behavior and analyze how different driving styles impact ETA, fuel efficiency, and safety.\n",
    "\n",
    "This can help with training and driving style guidelines for drivers for overall improvemnent in delivery times."
   ]
  },
  {
   "cell_type": "code",
   "execution_count": null,
   "metadata": {
    "colab": {
     "base_uri": "https://localhost:8080/"
    },
    "id": "d7rgcBzIUCuf",
    "outputId": "27a4ade6-7f85-4a47-af98-a783a6b5f193"
   },
   "outputs": [],
   "source": [
    "# Counts of gender\n",
    "drivers_df['gender'].value_counts()"
   ]
  },
  {
   "cell_type": "code",
   "execution_count": null,
   "metadata": {
    "colab": {
     "base_uri": "https://localhost:8080/"
    },
    "id": "YitOoYaqUD2L",
    "outputId": "455ea6d2-319d-4c6a-d95e-4a2530b6d024"
   },
   "outputs": [],
   "source": [
    "# Value counts of driving style\n",
    "drivers_df['driving_style'].value_counts()"
   ]
  },
  {
   "cell_type": "code",
   "execution_count": null,
   "metadata": {
    "colab": {
     "base_uri": "https://localhost:8080/",
     "height": 487
    },
    "id": "UiUjmXSvaLp1",
    "outputId": "9ecbbfc8-5f29-4350-ac2b-917844a87271"
   },
   "outputs": [],
   "source": [
    "# Setting figure size\n",
    "plt.figure(figsize=(10, 5))\n",
    "# plotting scatter plot between ratings and average speed\n",
    "sns.scatterplot(x='ratings', y='average_speed_mph', data=drivers_df)\n",
    "plt.title('Ratings vs. Average Speed')\n",
    "plt.xlabel('Ratings (out of 10)')\n",
    "plt.ylabel('Average Speed (mph)')\n",
    "plt.show()"
   ]
  },
  {
   "cell_type": "markdown",
   "metadata": {
    "id": "8YTrtlB5aOD0"
   },
   "source": [
    "No significant relationship - Ratings may be because of some other factors."
   ]
  },
  {
   "cell_type": "markdown",
   "metadata": {
    "id": "sdkozqtlh1HW"
   },
   "source": [
    "### **Boxplots**\n",
    "Boxplots, also known as box-and-whisker plots, are a type of graphical representation used to display the distribution, spread, and central tendency of a dataset. They provide a concise summary of the data's key statistical properties.\n",
    "\n",
    "Components of a Boxplot\n",
    "A boxplot consists of the following elements:\n",
    "\n",
    "* Box: The box in the plot represents the interquartile range (IQR), which contains the middle 50% of the data. The lower edge of the box represents the first quartile (Q1), and the upper edge represents the third quartile (Q3).\n",
    "\n",
    "* Whiskers: The whiskers extend from the box and represent the range of the data. They indicate the minimum and maximum values within a certain range, often defined by a formula (e.g., 1.5 times the IQR).\n",
    "\n",
    "* Median Line: A vertical line inside the box represents the median (Q2) of the dataset.\n",
    "\n",
    "* Outliers: Individual data points that fall outside the whiskers are considered outliers. They are plotted as individual points beyond the whiskers.\n",
    "\n",
    "Interpreting a Boxplot\n",
    "\n",
    "* Central Tendency: The median line gives the central value of the data.\n",
    "Spread: The length of the box (IQR) indicates the spread of the central 50% of the data.\n",
    "\n",
    "* Skewness: Asymmetry in the data can be observed by comparing the lengths of the whiskers. If one whisker is longer than the other, it suggests skewness.\n",
    "\n",
    "* Outliers: Outliers are points outside the whiskers. They can provide insights into anomalies or extreme values in the data.\n",
    "\n",
    "Use Cases of Boxplots\n",
    "\n",
    "* Identifying Outliers: Boxplots are useful for identifying outliers in a dataset.\n",
    "\n",
    "* Comparing Distributions: They allow for quick visual comparison of the distribution of multiple datasets.\n",
    "\n",
    "* Summarizing Data\n",
    "\n",
    "* Detecting Skewness: They can reveal whether a dataset is symmetric or skewed.\n",
    "\n"
   ]
  },
  {
   "cell_type": "code",
   "execution_count": null,
   "metadata": {
    "colab": {
     "base_uri": "https://localhost:8080/",
     "height": 472
    },
    "id": "p_0aYC91aQY9",
    "outputId": "8fb69897-8444-488f-e02e-73cf9a3205db"
   },
   "outputs": [],
   "source": [
    "# Boxplot between gender and ratings\n",
    "sns.boxplot(x='gender', y='ratings', data=drivers_df, palette='Set2')\n",
    "plt.title('Driver Ratings by Gender')\n",
    "plt.xlabel('Gender')\n",
    "plt.ylabel('Ratings (out of 10)')\n",
    "plt.show()"
   ]
  },
  {
   "cell_type": "markdown",
   "metadata": {
    "id": "S0NmkUJjaS41"
   },
   "source": [
    "Average ratings are similar for both the genders."
   ]
  },
  {
   "cell_type": "markdown",
   "metadata": {
    "id": "14gtE_zpaVtH"
   },
   "source": [
    "### **Truck's Data Analysis**"
   ]
  },
  {
   "cell_type": "code",
   "execution_count": null,
   "metadata": {
    "colab": {
     "base_uri": "https://localhost:8080/",
     "height": 206
    },
    "id": "z8wjnWOMabSr",
    "outputId": "1520cb49-0e4f-4ae4-c820-499278816894"
   },
   "outputs": [],
   "source": [
    "# Truck data head\n",
    "trucks_df.head()"
   ]
  },
  {
   "cell_type": "code",
   "execution_count": null,
   "metadata": {
    "colab": {
     "base_uri": "https://localhost:8080/"
    },
    "id": "qY97IS3laeVl",
    "outputId": "39f63929-8eec-40a4-c330-b62417a9832d"
   },
   "outputs": [],
   "source": [
    "# Info\n",
    "trucks_df.info()"
   ]
  },
  {
   "cell_type": "markdown",
   "metadata": {
    "id": "WvBbbs6Pahm0"
   },
   "source": [
    "load capacity and fuel type have missing values."
   ]
  },
  {
   "cell_type": "code",
   "execution_count": null,
   "metadata": {
    "colab": {
     "base_uri": "https://localhost:8080/",
     "height": 394
    },
    "id": "rS1eoDLGakjP",
    "outputId": "b8a1b500-8a1b-4123-955a-7007847b0e26"
   },
   "outputs": [],
   "source": [
    "# statistics of various columns\n",
    "trucks_df.describe(include='all')"
   ]
  },
  {
   "cell_type": "code",
   "execution_count": null,
   "metadata": {
    "colab": {
     "base_uri": "https://localhost:8080/",
     "height": 1000
    },
    "id": "ybT9bI5oanGO",
    "outputId": "365f87e2-ebff-4bbc-c58a-73720dbeed20"
   },
   "outputs": [],
   "source": [
    "# Numerical cols in truck's dataset\n",
    "truck_num_cols = ['truck_age', 'load_capacity_pounds', 'mileage_mpg']\n",
    "\n",
    "# plotting histogram for each column\n",
    "for col in truck_num_cols:\n",
    "  plt.figure(figsize=(10, 5))\n",
    "  sns.histplot(trucks_df[col], bins=30, kde=True)\n",
    "  plt.title(f'{col} distribution')\n",
    "  plt.xlabel(f'{col}')\n",
    "  plt.show()"
   ]
  },
  {
   "cell_type": "markdown",
   "metadata": {
    "id": "N4Nz7Gh4as7q"
   },
   "source": [
    "Analyze the distribution of truck ages and identify older trucks that might be approaching the end of their useful life.\n",
    "\n",
    "Identify trucks with significantly lower fuel efficiency. Implement strategies to improve fuel efficiency, such as regular maintenance, driver training, and adopting fuel-saving technologies.\n",
    "\n",
    "Consider replacing trucks with low mileage or poor fuel efficiency with more fuel-efficient models."
   ]
  },
  {
   "cell_type": "code",
   "execution_count": null,
   "metadata": {
    "id": "iZJzmr2lawyz"
   },
   "outputs": [],
   "source": [
    "# According to the histogram, setting low mileage to be 15\n",
    "low_mileage_threshold = 15\n",
    "\n",
    "# Filter trucks with low mileage\n",
    "low_mileage_trucks = trucks_df[trucks_df['mileage_mpg'] <= low_mileage_threshold]"
   ]
  },
  {
   "cell_type": "code",
   "execution_count": null,
   "metadata": {
    "colab": {
     "base_uri": "https://localhost:8080/",
     "height": 206
    },
    "id": "eQPiCMk7eqf-",
    "outputId": "cdd09d2c-ebeb-4220-ae81-6fd908887dc4"
   },
   "outputs": [],
   "source": [
    "# overview of data of low mileage trucks\n",
    "low_mileage_trucks.head()"
   ]
  },
  {
   "cell_type": "code",
   "execution_count": null,
   "metadata": {
    "colab": {
     "base_uri": "https://localhost:8080/",
     "height": 487
    },
    "id": "EUVeb30TeuLz",
    "outputId": "1da1d785-5c7e-4d32-ac3d-50215a741105"
   },
   "outputs": [],
   "source": [
    "# Age distribution of low mileage trucks\n",
    "plt.figure(figsize=(10, 5))\n",
    "sns.histplot(low_mileage_trucks['truck_age'], bins=30, kde=True)\n",
    "plt.title(f\"Low Mileage Truck's Age distribution\")\n",
    "plt.xlabel(\"Age\")\n",
    "plt.show()"
   ]
  },
  {
   "cell_type": "markdown",
   "metadata": {
    "id": "nsYx6nppavyA"
   },
   "source": [
    "Trucks more than 8 years of age has low mileage."
   ]
  },
  {
   "cell_type": "markdown",
   "metadata": {
    "id": "yqOiatD3e5zz"
   },
   "source": [
    "### **Routes Data Analysis**"
   ]
  },
  {
   "cell_type": "code",
   "execution_count": null,
   "metadata": {
    "colab": {
     "base_uri": "https://localhost:8080/",
     "height": 206
    },
    "id": "KhSOuzF-gfnb",
    "outputId": "2043cbc8-4c7d-40f5-f8fa-a8e969b570c5"
   },
   "outputs": [],
   "source": [
    "# Display the first rows\n",
    "routes_df.head()"
   ]
  },
  {
   "cell_type": "code",
   "execution_count": null,
   "metadata": {
    "colab": {
     "base_uri": "https://localhost:8080/"
    },
    "id": "bP8xvGy_gnmF",
    "outputId": "18c4e317-5216-40ef-9ba4-5ae042c23a09"
   },
   "outputs": [],
   "source": [
    "# Information on dataframe\n",
    "routes_df.info()"
   ]
  },
  {
   "cell_type": "markdown",
   "metadata": {
    "id": "2Mclzip4gqt8"
   },
   "source": [
    "### **Traffic Data Analysis**"
   ]
  },
  {
   "cell_type": "code",
   "execution_count": null,
   "metadata": {
    "id": "fyYR_VeigyyB"
   },
   "outputs": [],
   "source": [
    "# Traffic data head\n",
    "traffic_df.head()"
   ]
  },
  {
   "cell_type": "code",
   "execution_count": null,
   "metadata": {
    "colab": {
     "base_uri": "https://localhost:8080/"
    },
    "id": "wjmUFTePg1fP",
    "outputId": "43c14cd7-3f39-4f20-be05-a01140eacdb7"
   },
   "outputs": [],
   "source": [
    "# Info\n",
    "traffic_df.info()"
   ]
  },
  {
   "cell_type": "code",
   "execution_count": null,
   "metadata": {
    "colab": {
     "base_uri": "https://localhost:8080/"
    },
    "id": "JG751ATng4F1",
    "outputId": "cba3338a-f83a-41df-f0be-050ab4de1e00"
   },
   "outputs": [],
   "source": [
    "# Sum of null values\n",
    "traffic_df.isnull().sum()"
   ]
  },
  {
   "cell_type": "code",
   "execution_count": null,
   "metadata": {
    "colab": {
     "base_uri": "https://localhost:8080/",
     "height": 300
    },
    "id": "TsJPc_W6g7DO",
    "outputId": "847e76dd-9c50-4e1f-ebbc-e83336cf5202"
   },
   "outputs": [],
   "source": [
    "# statistical description\n",
    "traffic_df.describe()"
   ]
  },
  {
   "cell_type": "code",
   "execution_count": null,
   "metadata": {
    "colab": {
     "base_uri": "https://localhost:8080/"
    },
    "id": "_HMQXb_WiNlk",
    "outputId": "047a8f00-ec70-4230-dfd0-b4c25be978cd"
   },
   "outputs": [],
   "source": [
    "# Sum of null values\n",
    "traffic_df.isnull().sum()"
   ]
  },
  {
   "cell_type": "markdown",
   "metadata": {
    "id": "ybALwMS9iSNN"
   },
   "source": [
    "There are 1152 null values"
   ]
  },
  {
   "cell_type": "code",
   "execution_count": null,
   "metadata": {
    "colab": {
     "base_uri": "https://localhost:8080/",
     "height": 300
    },
    "id": "0DUXsvjhiVa5",
    "outputId": "bdbae892-b8ad-4ba5-ffce-72c817081855"
   },
   "outputs": [],
   "source": [
    "# statistical description\n",
    "traffic_df.describe()"
   ]
  },
  {
   "cell_type": "code",
   "execution_count": null,
   "metadata": {
    "id": "-hnPLdnCico6"
   },
   "outputs": [],
   "source": [
    "def categorize_time(hour):\n",
    "    \"\"\"\n",
    "    Categorizes hours of the day into time periods.\n",
    "\n",
    "    Args:\n",
    "    hour (int): Hour in 24-hour format.\n",
    "\n",
    "    Returns:\n",
    "    str: Categorized time period.\n",
    "    \"\"\"\n",
    "    if 300 <= hour < 600:\n",
    "        return 'Early Morning'\n",
    "    elif 600 <= hour < 1200:\n",
    "        return 'Morning'\n",
    "    elif 1200 <= hour < 1600:\n",
    "        return 'Noon'\n",
    "    elif 1600 <= hour < 2000:\n",
    "        return 'Evening'\n",
    "    elif 2000 <= hour < 2300:\n",
    "        return 'Night'\n",
    "    elif 0 <= hour < 300:\n",
    "        return 'Night'\n",
    "\n",
    "# Create a copy of traffic_df\n",
    "traffic = traffic_df.copy()\n",
    "\n",
    "# Apply the categorize_time function to create a new column 'time_category'\n",
    "traffic['time_category'] = traffic['hour'].apply(categorize_time)\n",
    "\n",
    "# Group by 'time_category' and calculate the mean of 'no_of_vehicles'\n",
    "mean_vehicles_by_time = traffic.groupby('time_category')['no_of_vehicles'].mean()\n"
   ]
  },
  {
   "cell_type": "code",
   "execution_count": null,
   "metadata": {
    "colab": {
     "base_uri": "https://localhost:8080/"
    },
    "id": "upO8yfc6ipea",
    "outputId": "26c86cff-cd84-4faf-824b-93fbae033b96"
   },
   "outputs": [],
   "source": [
    "# print\n",
    "mean_vehicles_by_time"
   ]
  },
  {
   "cell_type": "markdown",
   "metadata": {
    "id": "D0HrQTuNisWH"
   },
   "source": [
    "Evening experiences the highest traffic with an average of 2006 vehicles, likely due to rush hour.\n",
    "\n",
    "Morning follows closely with around 1738 vehicles, indicating significant traffic during the morning commute.\n",
    "\n",
    "Noon has an average of approximately 1995 vehicles, reflecting continued high traffic for various activities during the day.\n",
    "\n",
    "Early Morning sees the least traffic with around 562 vehicles, as people are still at home or starting their day.\n",
    "\n",
    "Nighttime has around 1263 vehicles, showing lighter traffic due to reduced commuting and increased resting hours.\n",
    "\n",
    "Other features relevant for delay could be weather conditions, day of the week, holidays, special events,"
   ]
  },
  {
   "cell_type": "markdown",
   "metadata": {
    "id": "1w4wTZ7Q_RpB"
   },
   "source": [
    "## **Feature Store**\n",
    "\n",
    "A feature store is a crucial component in the field of machine learning and data science. It serves as a centralized repository for storing, managing, and serving features used in machine learning models. Features, in this context, refer to the variables or attributes that are used to make predictions or classifications in a model.\n",
    "\n",
    "Need of a feature store:\n",
    "\n",
    "* Consistency and Reproducibility\n",
    "* Collaboration and Knowledge Sharing\n",
    "* Data Quality and Monitoring\n",
    "* Time and Cost saving\n",
    "\n",
    "Benefits of a feature store:\n",
    "* Data Centralization and Organization: In complex organizations, data is often scattered across different teams, departments, and systems. A feature store centralizes the storage of features, making it easier to manage and access them.\n",
    "\n",
    "* Feature Versioning and Lineage: Keeping track of different versions of features is essential for reproducibility and debugging in machine learning workflows. A feature store maintains a history of features, allowing teams to trace back to specific data points.\n",
    "\n",
    "* Consistency Across Models: Different teams and models within an organization may use similar or overlapping sets of features. A feature store ensures that these features are consistently engineered and used across different projects, leading to more reliable results.\n",
    "\n",
    "* Data Quality Assurance: Feature stores often include mechanisms to monitor and validate the quality of features. This ensures that features used for training models are of high quality, reducing the risk of erroneous predictions.\n",
    "\n",
    "* Efficient Data Access: Feature stores are optimized for efficient access to features. This is particularly important when dealing with large datasets, as it reduces the time and resources required to retrieve relevant information for model training or prediction.\n",
    "\n",
    "* Reduced Redundancy: Without a feature store, teams may duplicate efforts in feature engineering for different models or projects. A feature store reduces redundancy in data processing and engineering tasks, saving time and resources.\n",
    "\n",
    "* Scalability and Performance: A well-designed feature store is capable of handling large volumes of data and serving features efficiently. This is crucial for organizations dealing with big data and requiring real-time or batch processing capabilities.\n",
    "\n",
    "* Integration with ML Platforms: Feature stores seamlessly integrate with popular machine learning platforms and frameworks. This ensures that features can be easily incorporated into the end-to-end machine learning pipeline, from data preprocessing to model deployment.\n",
    "\n",
    "* Metadata and Descriptive Information: Feature stores store metadata and descriptive information about features. This includes data types, units, and descriptions, which are crucial for understanding the meaning and context of each feature, especially in collaborative environments.\n"
   ]
  },
  {
   "cell_type": "markdown",
   "metadata": {
    "id": "yO3W-QcRZmLT"
   },
   "source": [
    "### **Hopsworks**\n",
    "\n",
    "Description: Hopsworks is an open-source platform for data-intensive AI and machine learning. It includes a feature store component that allows users to store and manage features for their machine learning models.\n",
    "\n",
    "Key Features:\n",
    "* Supports both online and batch serving of features.\n",
    "* Integration with popular machine learning platforms and tools.\n",
    "* Versioning and lineage tracking of features.\n",
    "\n",
    "For more information, check out: https://www.hopsworks.ai/"
   ]
  },
  {
   "cell_type": "code",
   "execution_count": null,
   "metadata": {
    "id": "qtgjvzJ2Vvt7"
   },
   "outputs": [],
   "source": [
    "!pip install -U hopsworks==3.2.0"
   ]
  },
  {
   "cell_type": "code",
   "execution_count": null,
   "metadata": {
    "colab": {
     "base_uri": "https://localhost:8080/"
    },
    "id": "yis6XdiU_QdK",
    "outputId": "c357e74d-13a8-49fd-ba9a-47431bd29cca"
   },
   "outputs": [],
   "source": [
    "# Import the necessary library\n",
    "import hopsworks\n",
    "\n",
    "# Log in to the Hopsworks project\n",
    "project = hopsworks.login()\n",
    "\n",
    "# Get the feature store associated with the project\n",
    "fs = project.get_feature_store()\n"
   ]
  },
  {
   "cell_type": "markdown",
   "metadata": {
    "id": "YwZgOVSnEpA2"
   },
   "source": [
    "### **Driver Data Feature Store**"
   ]
  },
  {
   "cell_type": "code",
   "execution_count": null,
   "metadata": {
    "colab": {
     "base_uri": "https://localhost:8080/",
     "height": 112
    },
    "id": "nwogAHJr4-oz",
    "outputId": "1c0aba26-6013-4efa-dfb6-8c4652349cd3"
   },
   "outputs": [],
   "source": [
    "# Display the first two rows of the drivers DataFrame\n",
    "drivers_df.head(2)"
   ]
  },
  {
   "cell_type": "code",
   "execution_count": null,
   "metadata": {
    "colab": {
     "base_uri": "https://localhost:8080/"
    },
    "id": "7n4kPcnnFOdN",
    "outputId": "07ce9049-ac70-4a4b-d604-dff9ec25d820"
   },
   "outputs": [],
   "source": [
    "# Display information about the drivers DataFrame (e.g., column names, data types)\n",
    "drivers_df.info()"
   ]
  },
  {
   "cell_type": "code",
   "execution_count": null,
   "metadata": {
    "id": "olJcKHw5L_b3"
   },
   "outputs": [],
   "source": [
    "drivers_df['event_time'] = pd.to_datetime('2023-08-23')"
   ]
  },
  {
   "cell_type": "code",
   "execution_count": null,
   "metadata": {
    "colab": {
     "base_uri": "https://localhost:8080/"
    },
    "id": "OnZaBvOBZX0q",
    "outputId": "a143d4fd-d3a5-44cc-ac9d-b70d179c55bb"
   },
   "outputs": [],
   "source": [
    "drivers_df.isna().sum()"
   ]
  },
  {
   "cell_type": "code",
   "execution_count": null,
   "metadata": {
    "id": "HA7kkWpCBsxT"
   },
   "outputs": [],
   "source": [
    "# Filling the null values with Unknown\n",
    "drivers_df['driving_style']=drivers_df['driving_style'].fillna('Unknown')\n",
    "drivers_df['gender']=drivers_df['gender'].fillna('Unknown')"
   ]
  },
  {
   "cell_type": "code",
   "execution_count": null,
   "metadata": {
    "colab": {
     "base_uri": "https://localhost:8080/"
    },
    "id": "KVfVyYOKlyCa",
    "outputId": "0d0c6f99-b134-4396-b48d-487d1612d725"
   },
   "outputs": [],
   "source": [
    "drivers_df.columns"
   ]
  },
  {
   "cell_type": "code",
   "execution_count": null,
   "metadata": {
    "colab": {
     "base_uri": "https://localhost:8080/",
     "height": 153,
     "referenced_widgets": [
      "dbb3932d6de44c1590f07a9ffe2e8b8a",
      "3e1ed3e4ed0c465b83658b8e8432538e",
      "05bda99f22894f56afd9e364784b3e1f",
      "82010e43b63449fe89972375899574fb",
      "169919476f4d4c3e917b386bfbf03d4b",
      "4d342f1af965463f8cd7046966e22526",
      "74cf2ae9eec54ae2b295159d6bc8dd3c",
      "96d6ac3a29e34abeac441a3cd912f630",
      "93e177aa0b1842d1a2698528571a8dca",
      "23600be939614e2ba4429a1c69d91b84",
      "7b54bc73766346599a2e177abb8932ab"
     ]
    },
    "id": "DuR_UB9k_Y2w",
    "outputId": "8783d8d6-87ef-454a-ddc8-f54e85750277"
   },
   "outputs": [],
   "source": [
    "# Create feature group for drivers details\n",
    "drivers_fg = fs.get_or_create_feature_group(\n",
    "    name=\"drivers_details_fg\",                # Name of the feature group\n",
    "    version=1,                                # Version number\n",
    "    description=\"Drivers data\",               # Description of the feature group\n",
    "    primary_key=['driver_id'],                # Primary key(s) for the feature group\n",
    "    event_time='event_time',                  # Event time column\n",
    "    online_enabled=False                      # Online feature store capability\n",
    ")\n",
    "\n",
    "# Insert the drivers DataFrame into the feature group\n",
    "drivers_fg.insert(drivers_df)"
   ]
  },
  {
   "cell_type": "code",
   "execution_count": null,
   "metadata": {
    "id": "3QM4zPSXJC9Y"
   },
   "outputs": [],
   "source": [
    "# Sort values\n",
    "drivers_df=drivers_df.sort_values([\"event_time\",\"driver_id\"])"
   ]
  },
  {
   "cell_type": "code",
   "execution_count": null,
   "metadata": {
    "id": "eZ7zL8IElgLU"
   },
   "outputs": [],
   "source": [
    "# List of feature descriptions for drivers\n",
    "feature_descriptions_drivers = [\n",
    "\n",
    "    {\"name\": \"driver_id\", \"description\": \"unique identification for each driver\"},\n",
    "    {\"name\": \"name\", \"description\": \"name of the truck driver\"},\n",
    "    {\"name\": \"gender\", \"description\": \"gender of the truck driver\"},\n",
    "    {\"name\": \"age\", \"description\": \"age of the truck driver\"},\n",
    "    {\"name\": \"experience\", \"description\": \"experience of the truck driver in years\"},\n",
    "    {\"name\": \"driving_style\", \"description\": \"driving style of the truck driver, conservative or proactive\"},\n",
    "    {\"name\": \"ratings\", \"description\": \"average rating of the truck driver on a scale of 1 to 5\"},\n",
    "    {\"name\": \"vehicle_no\", \"description\": \"the number of the driver’s truck\"},\n",
    "    {\"name\": \"average_speed_mph\", \"description\": \"average speed of the truck driver in miles per hour\"},\n",
    "    {\"name\": \"event_time\", \"description\": \"dummy event time\"}\n",
    "\n",
    "]\n",
    "\n",
    "# Iterate through the feature descriptions and update them in the feature group\n",
    "for desc in feature_descriptions_drivers:\n",
    "    drivers_fg.update_feature_description(desc[\"name\"], desc[\"description\"])\n"
   ]
  },
  {
   "cell_type": "code",
   "execution_count": null,
   "metadata": {
    "colab": {
     "base_uri": "https://localhost:8080/"
    },
    "id": "6oy6RkWPlpRN",
    "outputId": "c316b53b-8b7d-4c2c-aed4-00e42c110b4e"
   },
   "outputs": [],
   "source": [
    "# Configure statistics for the feature group\n",
    "drivers_fg.statistics_config = {\n",
    "    \"enabled\": True,        # Enable statistics calculation\n",
    "    \"histograms\": True,     # Include histograms in the statistics\n",
    "    \"correlations\": True    # Include correlations in the statistics\n",
    "}\n",
    "\n",
    "# Update the statistics configuration for the feature group\n",
    "drivers_fg.update_statistics_config()\n",
    "\n",
    "# Compute statistics for the feature group\n",
    "drivers_fg.compute_statistics()\n"
   ]
  },
  {
   "cell_type": "markdown",
   "metadata": {
    "id": "b49wLTbBSRBt"
   },
   "source": [
    "### **Truck Data Feature Store**"
   ]
  },
  {
   "cell_type": "code",
   "execution_count": null,
   "metadata": {
    "colab": {
     "base_uri": "https://localhost:8080/",
     "height": 206
    },
    "id": "q7syObV8SlSl",
    "outputId": "7177d298-9041-4f04-82d8-4cbf29d2e2a9"
   },
   "outputs": [],
   "source": [
    "# Displaying head of the data\n",
    "trucks_df.head()"
   ]
  },
  {
   "cell_type": "code",
   "execution_count": null,
   "metadata": {
    "colab": {
     "base_uri": "https://localhost:8080/"
    },
    "id": "_kLTDVWkSpaF",
    "outputId": "1bd77ce2-cfc0-4de5-baf9-ff2c61eddd3c"
   },
   "outputs": [],
   "source": [
    "# Displaying information\n",
    "trucks_df.info()"
   ]
  },
  {
   "cell_type": "code",
   "execution_count": null,
   "metadata": {
    "colab": {
     "base_uri": "https://localhost:8080/"
    },
    "id": "irD_5zybSRB2",
    "outputId": "a57ec89d-1d44-4ea3-e502-806e181dcf67"
   },
   "outputs": [],
   "source": [
    "# Sum of null values\n",
    "trucks_df.isna().sum()"
   ]
  },
  {
   "cell_type": "code",
   "execution_count": null,
   "metadata": {
    "id": "3kawW5HTONVX"
   },
   "outputs": [],
   "source": [
    "trucks_df['fuel_type'].unique()"
   ]
  },
  {
   "cell_type": "code",
   "execution_count": null,
   "metadata": {
    "id": "CU2lPSfrSRB2"
   },
   "outputs": [],
   "source": [
    "# Filling the null values with Unknown\n",
    "trucks_df['fuel_type']=trucks_df['fuel_type'].replace(\"\",'Unknown')\n",
    "\n"
   ]
  },
  {
   "cell_type": "code",
   "execution_count": null,
   "metadata": {
    "id": "9BCIG7SmOQKm"
   },
   "outputs": [],
   "source": [
    "trucks_df['fuel_type'].value_counts()"
   ]
  },
  {
   "cell_type": "code",
   "execution_count": null,
   "metadata": {
    "id": "g4NZKoh6SRB2"
   },
   "outputs": [],
   "source": [
    "trucks_df['event_time'] = pd.to_datetime('2023-08-23')\n",
    "\n",
    "trucks_df=trucks_df.sort_values([\"event_time\",\"truck_id\"])"
   ]
  },
  {
   "cell_type": "code",
   "execution_count": null,
   "metadata": {
    "id": "4o43G1AkSRB3"
   },
   "outputs": [],
   "source": [
    "# Create a feature group for truck details\n",
    "truck_fg = fs.get_or_create_feature_group(\n",
    "    name=\"truck_details_fg\",          # Name of the feature group\n",
    "    version=1,                        # Version number\n",
    "    description=\"Truck data\",         # Description of the feature group\n",
    "    primary_key=['truck_id'],         # Primary key(s) for the feature group\n",
    "    event_time='event_time',          # Event time column\n",
    "    online_enabled=False              # Online feature store capability (set to False)\n",
    ")\n"
   ]
  },
  {
   "cell_type": "code",
   "execution_count": null,
   "metadata": {
    "colab": {
     "base_uri": "https://localhost:8080/",
     "height": 153,
     "referenced_widgets": [
      "21d3a25dc2a441d39622fc3c0a22a93a",
      "617fe42eb92c43c4ad39297ba33276c6",
      "373bd260de88413e82c4c7aaede997ae",
      "8bd76807cc1a4ab590dbf425336e54b7",
      "0d03ff6667c2489183899314d12eab05",
      "cd2e739d5f3b42bd850aa68c16731a9e",
      "72d0d19bd7e64a719180abe304fa7dc8",
      "463ee3f006c14d2e82408f6558506130",
      "16fed3dcbeea41b6a36a1df117c8f5b9",
      "5156c6222c3c4c4d81fb56d59f9d44b1",
      "88330c14e3ce4ef595714fc815d8154f"
     ]
    },
    "id": "7PZqU0nZnB27",
    "outputId": "41f4adfa-b91e-4a28-f44a-6694e5805257"
   },
   "outputs": [],
   "source": [
    "truck_fg.insert(trucks_df)"
   ]
  },
  {
   "cell_type": "code",
   "execution_count": null,
   "metadata": {
    "id": "N25BMu4tnG1j"
   },
   "outputs": [],
   "source": [
    "# Add feature descriptions\n",
    "\n",
    "feature_descriptions_trucks = [\n",
    "    {\"name\":'truck_id',\"description\":\"the unique identification number of the truck\"},\n",
    "    {\"name\":'truck_age',\"description\":\"age of the truck in years\"},\n",
    "    {\"name\":'load_capacity_pounds',\"description\":\"loading capacity of the truck in years\"},\n",
    "    {\"name\":'mileage_mpg',\"description\": \"mileage of the truck in miles per gallon\"},\n",
    "    {\"name\":'fuel_type',\"description\":\"fuel type of the truck\"},\n",
    "    {\"name\": \"event_time\", \"description\": \"dummy event time\"}\n",
    "\n",
    "]\n",
    "\n",
    "for desc in feature_descriptions_trucks:\n",
    "    truck_fg.update_feature_description(desc[\"name\"], desc[\"description\"])"
   ]
  },
  {
   "cell_type": "code",
   "execution_count": null,
   "metadata": {
    "colab": {
     "base_uri": "https://localhost:8080/"
    },
    "id": "u9mcZZ5cnNcP",
    "outputId": "f9117b59-bf32-4ddc-96d7-45e17475a628"
   },
   "outputs": [],
   "source": [
    "truck_fg.statistics_config = {\n",
    "    \"enabled\": True,\n",
    "    \"histograms\": True,\n",
    "    \"correlations\": True\n",
    "}\n",
    "\n",
    "truck_fg.update_statistics_config()\n",
    "truck_fg.compute_statistics()"
   ]
  },
  {
   "cell_type": "markdown",
   "metadata": {
    "id": "qfwNSF2TSRB3"
   },
   "source": [
    "### **Routes data Feature Store**"
   ]
  },
  {
   "cell_type": "code",
   "execution_count": null,
   "metadata": {
    "colab": {
     "base_uri": "https://localhost:8080/",
     "height": 206
    },
    "id": "E5vWdM50SRB4",
    "outputId": "afdf141b-8387-4fe5-d1f8-1ca3da8c9e39"
   },
   "outputs": [],
   "source": [
    "# Display the head\n",
    "routes_df.head()"
   ]
  },
  {
   "cell_type": "code",
   "execution_count": null,
   "metadata": {
    "colab": {
     "base_uri": "https://localhost:8080/"
    },
    "id": "X__PfjVuSzA8",
    "outputId": "c1b55c76-9e98-4fcf-a117-02ff2c46a41d"
   },
   "outputs": [],
   "source": [
    "# Routes Information\n",
    "routes_df.info()"
   ]
  },
  {
   "cell_type": "code",
   "execution_count": null,
   "metadata": {
    "colab": {
     "base_uri": "https://localhost:8080/"
    },
    "id": "vYhgm4WeSRB3",
    "outputId": "bfc9bced-8274-4c59-bc31-7d6efce42320"
   },
   "outputs": [],
   "source": [
    "# Sum of null values\n",
    "routes_df.isna().sum()"
   ]
  },
  {
   "cell_type": "code",
   "execution_count": null,
   "metadata": {
    "id": "FkOBCMZtSRB4"
   },
   "outputs": [],
   "source": [
    "routes_df['event_time'] = pd.to_datetime('2023-08-23')\n",
    "\n",
    "routes_df=routes_df.sort_values([\"event_time\",\"route_id\"])"
   ]
  },
  {
   "cell_type": "code",
   "execution_count": null,
   "metadata": {
    "id": "p2Rrvq6xSRB4"
   },
   "outputs": [],
   "source": [
    "# Create feature group for route details\n",
    "routes_fg = fs.get_or_create_feature_group(\n",
    "    name=\"routes_details_fg\",         # Name of the feature group\n",
    "    version=1,                        # Version number\n",
    "    description=\"Routes data\",        # Description of the feature group\n",
    "    primary_key=['route_id'],         # Primary key(s) for the feature group\n",
    "    event_time='event_time',          # Event time column\n",
    "    online_enabled=False              # Online feature store capability (set to False)\n",
    ")\n"
   ]
  },
  {
   "cell_type": "code",
   "execution_count": null,
   "metadata": {
    "colab": {
     "base_uri": "https://localhost:8080/",
     "height": 153,
     "referenced_widgets": [
      "5bdc805527814090aca74269761bec41",
      "45d94ac694aa4721993b2138a24b52cd",
      "7c5273a9078f4fd1bf723c7327ace5bc",
      "ec1e6ece03fc47b98fd77c2792d0db43",
      "49e59bb643e84c80bf64947009e065de",
      "c0c71bce59004909af615095ebcb7741",
      "0c2245ba1e3c4e6b8677b2676c5f2bd5",
      "3ddf5767213f484b800fa17ed8493668",
      "f882a6956f2144459da345381b6486db",
      "8ef6e4a351f14d6c8fff529adea0ce5c",
      "721da215f92d48a7ad5e8dad5193a416"
     ]
    },
    "id": "zgQeDTpMosNM",
    "outputId": "791ad8a8-edf6-4b7b-91b3-4675f3b6080b"
   },
   "outputs": [],
   "source": [
    "routes_fg.insert(routes_df)"
   ]
  },
  {
   "cell_type": "code",
   "execution_count": null,
   "metadata": {
    "id": "mkkVLSW2nbrE"
   },
   "outputs": [],
   "source": [
    "# Add feature descriptions\n",
    "\n",
    "feature_descriptions_routes = [\n",
    "    {\"name\": 'route_id', \"description\": \"the unique identifier of the routes\"},\n",
    "    {\"name\": 'origin_id', \"description\": \"the city identification number for the origin city\"},\n",
    "    {\"name\": 'destination_id', \"description\": \" the city identification number for the destination\"},\n",
    "    {\"name\": 'distance', \"description\": \" the distance between the origin and destination cities in miles\"},\n",
    "    {\"name\": 'average_hours', \"description\": \"average time needed to travel from the origin to the destination in hours\"},\n",
    "    {\"name\": \"event_time\", \"description\": \"dummy event time\"}\n",
    "\n",
    "]\n",
    "\n",
    "for desc in feature_descriptions_routes:\n",
    "    routes_fg.update_feature_description(desc[\"name\"], desc[\"description\"])"
   ]
  },
  {
   "cell_type": "code",
   "execution_count": null,
   "metadata": {
    "colab": {
     "base_uri": "https://localhost:8080/"
    },
    "id": "oMP7Ps11nbrE",
    "outputId": "470d2f47-bfa2-4f9a-d5bc-4667fa310bfd"
   },
   "outputs": [],
   "source": [
    "routes_fg.statistics_config = {\n",
    "    \"enabled\": True,\n",
    "    \"histograms\": True,\n",
    "    \"correlations\": True\n",
    "}\n",
    "\n",
    "routes_fg.update_statistics_config()\n",
    "routes_fg.compute_statistics()"
   ]
  },
  {
   "cell_type": "markdown",
   "metadata": {
    "id": "U25gFaVcSRB4"
   },
   "source": [
    "### **Truck Schedule Data Feature Store**"
   ]
  },
  {
   "cell_type": "code",
   "execution_count": null,
   "metadata": {
    "colab": {
     "base_uri": "https://localhost:8080/",
     "height": 206
    },
    "id": "aYvsE0aVSRB5",
    "outputId": "43934aec-8777-4374-90af-9fe21afb8041"
   },
   "outputs": [],
   "source": [
    "# Display the head\n",
    "schedule_df.head()"
   ]
  },
  {
   "cell_type": "code",
   "execution_count": null,
   "metadata": {
    "colab": {
     "base_uri": "https://localhost:8080/"
    },
    "id": "TvU8KlWKSRB5",
    "outputId": "d426bbf4-e192-4095-d966-c9752de9cefc"
   },
   "outputs": [],
   "source": [
    "# Display data information\n",
    "schedule_df.info()"
   ]
  },
  {
   "cell_type": "code",
   "execution_count": null,
   "metadata": {
    "colab": {
     "base_uri": "https://localhost:8080/"
    },
    "id": "Kt1UfXuJSRB4",
    "outputId": "17bb9fd0-8321-4d1f-a427-e1f6c00650ee"
   },
   "outputs": [],
   "source": [
    "# Sum of null values\n",
    "schedule_df.isna().sum()"
   ]
  },
  {
   "cell_type": "code",
   "execution_count": null,
   "metadata": {
    "id": "u8hnc60ZSRB5"
   },
   "outputs": [],
   "source": [
    "# sorting\n",
    "schedule_df=schedule_df.sort_values([\"estimated_arrival\",\"truck_id\"])"
   ]
  },
  {
   "cell_type": "code",
   "execution_count": null,
   "metadata": {
    "id": "N4xjaOUWSRB5"
   },
   "outputs": [],
   "source": [
    "# Create  feature group for truck schedule details\n",
    "truck_schedule_fg = fs.get_or_create_feature_group(\n",
    "    name=\"truck_schedule_details_fg\",  # Name of the feature group\n",
    "    version=1,                          # Version number\n",
    "    description=\"Truck Schedule data\",  # Description of the feature group\n",
    "    primary_key=['truck_id','route_id'], # Primary key(s) for the feature group\n",
    "    event_time='estimated_arrival',     # Event time column\n",
    "    online_enabled=True                  # Online feature store capability (set to True)\n",
    ")\n"
   ]
  },
  {
   "cell_type": "code",
   "execution_count": null,
   "metadata": {
    "colab": {
     "base_uri": "https://localhost:8080/",
     "height": 153,
     "referenced_widgets": [
      "5ae4ae0c03ee467c89ee20c68ebc4eb2",
      "94ccf3d5c981459ebb28147466be2f9f",
      "4750673d7dd6410dab6f41481f353e88",
      "7dd3197d4165445abee06840dcf15163",
      "fbb938f91d05413fa7fb55cf2c474d72",
      "c5ace83b35b7422f8ec0b584a6c207e1",
      "5feef648d0924308846308f529721aa5",
      "cd90c79151744c1bbe3f583df241d175",
      "5a3ca91a7b3042a783a46a5eccf42ebf",
      "07d4f6060cb140e694c8f2d83a3b147a",
      "8692d74f6bee4be2bd8e9b03ea297123"
     ]
    },
    "id": "CvohjmrIo-3G",
    "outputId": "712fad4b-b976-4bc6-8e76-4bdc0fbe9f7f"
   },
   "outputs": [],
   "source": [
    "truck_schedule_fg.insert(schedule_df)"
   ]
  },
  {
   "cell_type": "code",
   "execution_count": null,
   "metadata": {
    "id": "gZ2qUAEqnddO"
   },
   "outputs": [],
   "source": [
    "# Add feature descriptions\n",
    "feature_descriptions_schedule = [\n",
    "    {\"name\": 'truck_id', \"description\": \"the unique identifier of the truck\"},\n",
    "    {\"name\": 'route_id', \"description\": \"the unique identifier of the route\"},\n",
    "    {\"name\": 'departure_date', \"description\": \"departure DateTime of the truck\"},\n",
    "    {\"name\": 'estimated_arrival', \"description\": \"estimated arrival DateTime of the truck\"},\n",
    "    {\"name\": 'delay', \"description\": \"binary variable if the truck’s arrival was delayed, 0 for on-time arrival and 1 for delayed arrival\"},\n",
    "]\n",
    "\n",
    "for desc in feature_descriptions_schedule:\n",
    "    truck_schedule_fg.update_feature_description(desc[\"name\"], desc[\"description\"])"
   ]
  },
  {
   "cell_type": "code",
   "execution_count": null,
   "metadata": {
    "colab": {
     "base_uri": "https://localhost:8080/"
    },
    "id": "i6MexjElnddQ",
    "outputId": "11c20b9f-c1fc-497b-8eb2-b902a1b45faf"
   },
   "outputs": [],
   "source": [
    "truck_schedule_fg.statistics_config = {\n",
    "    \"enabled\": True,\n",
    "    \"histograms\": True,\n",
    "    \"correlations\": True\n",
    "}\n",
    "\n",
    "truck_schedule_fg.update_statistics_config()\n",
    "truck_schedule_fg.compute_statistics()"
   ]
  },
  {
   "cell_type": "markdown",
   "metadata": {
    "id": "ob1TQusCSRB6"
   },
   "source": [
    "### **Traffic Feature Store**"
   ]
  },
  {
   "cell_type": "code",
   "execution_count": null,
   "metadata": {
    "colab": {
     "base_uri": "https://localhost:8080/",
     "height": 206
    },
    "id": "Td1t2QLNSRB6",
    "outputId": "931aa28f-d385-4a69-ab03-6393fa57e738"
   },
   "outputs": [],
   "source": [
    "traffic_df.head()"
   ]
  },
  {
   "cell_type": "code",
   "execution_count": null,
   "metadata": {
    "colab": {
     "base_uri": "https://localhost:8080/"
    },
    "id": "ycGjqgQMSRB6",
    "outputId": "dad5d6e0-f4c9-4436-94f0-47e37fa0cdde"
   },
   "outputs": [],
   "source": [
    "traffic_df.info()"
   ]
  },
  {
   "cell_type": "code",
   "execution_count": null,
   "metadata": {
    "colab": {
     "base_uri": "https://localhost:8080/"
    },
    "id": "MDJYRRqZSRB6",
    "outputId": "3fdd9874-2925-4a7a-915a-755bc19ea12d"
   },
   "outputs": [],
   "source": [
    "traffic_df.isna().sum()"
   ]
  },
  {
   "cell_type": "code",
   "execution_count": null,
   "metadata": {
    "id": "uiAciSAtTExC"
   },
   "outputs": [],
   "source": [
    "traffic_df=traffic_df.sort_values(['date','route_id','hour'])"
   ]
  },
  {
   "cell_type": "code",
   "execution_count": null,
   "metadata": {
    "id": "Gd8fbSW5SRB6"
   },
   "outputs": [],
   "source": [
    "traffic_fg = fs.get_or_create_feature_group(\n",
    "    name=\"traffic_details_fg\",\n",
    "    version=1,\n",
    "    description=\"Traffic data\",\n",
    "    primary_key=['route_id','hour'],\n",
    "    event_time='date',\n",
    "    online_enabled=True\n",
    ")"
   ]
  },
  {
   "cell_type": "code",
   "execution_count": null,
   "metadata": {
    "colab": {
     "base_uri": "https://localhost:8080/",
     "height": 153,
     "referenced_widgets": [
      "af71943d28374994b16c0daf0c366a41",
      "fd31b121cb25416fb60d587e9f0e96e5",
      "b5ca87cf11884a8490c24b79355a25ec",
      "49ae006c09434804b75c599c3c4a2fa9",
      "46086c31d30b47eca2e03de6e7e66006",
      "3194c9711dd14ac28752ec3b93eb462c",
      "83871e8dad83489596509537b9d84719",
      "ebc9ace6f92b4a4ab7d6b0d876b95123",
      "d8a712f5bf2a4d4c90ce5d4ea1a25c05",
      "258bf6df7b014680bbe97cc6738b2339",
      "a461b511efbd4a4485a19e449676d933"
     ]
    },
    "id": "gbdyBH4VtfbB",
    "outputId": "c7035c2c-c9b4-4697-f14e-45d7e305c024"
   },
   "outputs": [],
   "source": [
    "traffic_fg.insert(traffic_df)"
   ]
  },
  {
   "cell_type": "code",
   "execution_count": null,
   "metadata": {
    "id": "k4NusqIlnem2"
   },
   "outputs": [],
   "source": [
    "feature_descriptions_traffic = [\n",
    "     {\"name\": 'route_id', \"description\": \"the identification number of the route\"},\n",
    "     {\"name\": 'date', \"description\": \" date of the traffic observation\"},\n",
    "     {\"name\": 'hour', \"description\": \"the hour of the observation as a number in 24-hour format\"},\n",
    "     {\"name\": 'no_of_vehicles', \"description\": \"the number of vehicles observed on the route\"},\n",
    "     {\"name\": 'accident', \"description\": \"binary variable to denote if an accident was observed\"}\n",
    "\n",
    "]\n",
    "\n",
    "for desc in feature_descriptions_traffic:\n",
    "    traffic_fg.update_feature_description(desc[\"name\"], desc[\"description\"])"
   ]
  },
  {
   "cell_type": "code",
   "execution_count": null,
   "metadata": {
    "colab": {
     "base_uri": "https://localhost:8080/"
    },
    "id": "z1bPKTvDnem3",
    "outputId": "757575b7-7778-4857-dc0c-e57f2a0b0880"
   },
   "outputs": [],
   "source": [
    "traffic_fg.statistics_config = {\n",
    "    \"enabled\": True,\n",
    "    \"histograms\": True,\n",
    "    \"correlations\": True\n",
    "}\n",
    "\n",
    "traffic_fg.update_statistics_config()\n",
    "traffic_fg.compute_statistics()"
   ]
  },
  {
   "cell_type": "markdown",
   "metadata": {
    "id": "kGY0xSDVSRB7"
   },
   "source": [
    "### **City Weather Feature Store**"
   ]
  },
  {
   "cell_type": "code",
   "execution_count": null,
   "metadata": {
    "colab": {
     "base_uri": "https://localhost:8080/",
     "height": 206
    },
    "id": "L3H1_sgKSRB7",
    "outputId": "6ae10963-61f7-484a-cac8-09c6edcf03de"
   },
   "outputs": [],
   "source": [
    "weather_df.head()"
   ]
  },
  {
   "cell_type": "code",
   "execution_count": null,
   "metadata": {
    "colab": {
     "base_uri": "https://localhost:8080/"
    },
    "id": "F9uVnumjSRB7",
    "outputId": "bb4c0753-e2c9-4e4f-f1e0-b0d7a9cab981"
   },
   "outputs": [],
   "source": [
    "weather_df.info()"
   ]
  },
  {
   "cell_type": "code",
   "execution_count": null,
   "metadata": {
    "colab": {
     "base_uri": "https://localhost:8080/"
    },
    "id": "XbvWHdqTSRB7",
    "outputId": "97a93c4c-7318-45bc-8f32-5b7e4d1f75a1"
   },
   "outputs": [],
   "source": [
    "weather_df.isna().sum()"
   ]
  },
  {
   "cell_type": "code",
   "execution_count": null,
   "metadata": {
    "id": "S__YawXITVTD"
   },
   "outputs": [],
   "source": [
    "weather_df=weather_df.sort_values(['date','city_id','hour'])"
   ]
  },
  {
   "cell_type": "code",
   "execution_count": null,
   "metadata": {
    "id": "4vkbp5PtSRB8"
   },
   "outputs": [],
   "source": [
    "city_weather_fg = fs.get_or_create_feature_group(\n",
    "    name=\"city_weather_details_fg\",\n",
    "    version=1,\n",
    "    description=\"City Weather data\",\n",
    "    primary_key=['city_id','hour'],\n",
    "    event_time='date',\n",
    "    online_enabled=True\n",
    ")"
   ]
  },
  {
   "cell_type": "code",
   "execution_count": null,
   "metadata": {
    "colab": {
     "base_uri": "https://localhost:8080/",
     "height": 153,
     "referenced_widgets": [
      "bf45d08233c94a63acf34640ed426387",
      "42c1abfe43c3496491e068bf56c38f41",
      "a034fbdc64ed4aaa9fb725476802132e",
      "70aca87ceab54e8993ad753b609348f4",
      "868400f8f5fc4845b5bbbbe032309c34",
      "22ad36e65718451c851f71bfe66e9aca",
      "ceec2e9673b0427fbc489bdff6531823",
      "1bf6e57a2ad149cabb1a56b1857fe7a5",
      "668c2844f5114533a871554d0590ee7e",
      "ead67ffde6c2462ebd87a5d8988358b4",
      "3328accf44d248869eceb1a609d811ba"
     ]
    },
    "id": "jH_K_nl0zgKy",
    "outputId": "1c043837-0cf4-4ef1-9ed3-2b76e74d0343"
   },
   "outputs": [],
   "source": [
    "city_weather_fg.insert(weather_df)"
   ]
  },
  {
   "cell_type": "code",
   "execution_count": null,
   "metadata": {
    "id": "mPyq6SyjngOV"
   },
   "outputs": [],
   "source": [
    "feature_descriptions_weather = [\n",
    "    {\"name\": 'city_id', \"description\":  'the unique identifier of the city'},\n",
    "    {\"name\": 'date', \"description\":  'date of the observation'},\n",
    "    {\"name\": 'hour', \"description\": 'the hour of the observation as a number in 24hour format'},\n",
    "    {\"name\": 'temp', \"description\":  'temperature in Fahrenheit'},\n",
    "    {\"name\": 'wind_speed', \"description\":  'wind speed in miles per hour'},\n",
    "    {\"name\": 'description', \"description\":  'description of the weather conditions such as Clear, Cloudy, etc'},\n",
    "    {\"name\": 'precip', \"description\":  'precipitation in inches'},\n",
    "    {\"name\": 'humidity', \"description\":  'humidity observed'},\n",
    "    {\"name\": 'visibility', \"description\":  'visibility observed in miles per hour'},\n",
    "    {\"name\": 'pressure', \"description\":  'pressure observed in millibar'},\n",
    "    {\"name\": 'chanceofrain', \"description\":  'chances of rain'},\n",
    "    {\"name\": 'chanceoffog', \"description\":  'chances of fog'},\n",
    "    {\"name\": 'chanceofsnow', \"description\":  'chances of snow'},\n",
    "    {\"name\": 'chanceofthunder', \"description\":  'chances of thunder'}\n",
    "\n",
    "]\n",
    "\n",
    "for desc in feature_descriptions_weather:\n",
    "    city_weather_fg.update_feature_description(desc[\"name\"], desc[\"description\"])"
   ]
  },
  {
   "cell_type": "code",
   "execution_count": null,
   "metadata": {
    "colab": {
     "base_uri": "https://localhost:8080/"
    },
    "id": "Ko7UxlM1ngOW",
    "outputId": "43d45b61-3409-4526-d4bd-e7c94a292fdf"
   },
   "outputs": [],
   "source": [
    "city_weather_fg.statistics_config = {\n",
    "    \"enabled\": True,\n",
    "    \"histograms\": True,\n",
    "    \"correlations\": True\n",
    "}\n",
    "\n",
    "city_weather_fg.update_statistics_config()\n",
    "city_weather_fg.compute_statistics()"
   ]
  },
  {
   "cell_type": "markdown",
   "metadata": {
    "id": "aw4baIs4SRB8"
   },
   "source": [
    "### **Route Weather Feature Store**"
   ]
  },
  {
   "cell_type": "code",
   "execution_count": null,
   "metadata": {
    "colab": {
     "base_uri": "https://localhost:8080/",
     "height": 206
    },
    "id": "7qXMGbpPSRB8",
    "outputId": "4b9baea7-eceb-4160-a075-9f081a0d9e3a"
   },
   "outputs": [],
   "source": [
    "route_weather.head()"
   ]
  },
  {
   "cell_type": "code",
   "execution_count": null,
   "metadata": {
    "colab": {
     "base_uri": "https://localhost:8080/"
    },
    "id": "6QuMEjaBSRB8",
    "outputId": "4b4d722d-2ea3-493b-9412-8ade3fb6487f"
   },
   "outputs": [],
   "source": [
    "route_weather.info()"
   ]
  },
  {
   "cell_type": "code",
   "execution_count": null,
   "metadata": {
    "colab": {
     "base_uri": "https://localhost:8080/"
    },
    "id": "cFpx3wO4SRB8",
    "outputId": "5246b440-4f90-499c-cdbb-70c887d6c96e"
   },
   "outputs": [],
   "source": [
    "route_weather.isna().sum()"
   ]
  },
  {
   "cell_type": "code",
   "execution_count": null,
   "metadata": {
    "id": "PbseM4TdUrDW"
   },
   "outputs": [],
   "source": [
    "route_weather=route_weather.sort_values(by=['date','route_id'])"
   ]
  },
  {
   "cell_type": "code",
   "execution_count": null,
   "metadata": {
    "id": "R8-4N8-3SRB9"
   },
   "outputs": [],
   "source": [
    "route_weather_fg = fs.get_or_create_feature_group(\n",
    "    name=\"route_weather_details_fg\",\n",
    "    version=1,\n",
    "    description=\"Route Weather data\",\n",
    "    primary_key=['route_id'],\n",
    "    event_time='date',\n",
    "    online_enabled=True\n",
    ")"
   ]
  },
  {
   "cell_type": "code",
   "execution_count": null,
   "metadata": {
    "colab": {
     "base_uri": "https://localhost:8080/",
     "height": 153,
     "referenced_widgets": [
      "8be6f853ee3b4476bf6a69216f50f2e4",
      "80542297052045c9bca75bb8932b6eac",
      "0b8b13377bb6469eb57d91ebffdb6d40",
      "69072a0448bd47479f23755b282a6234",
      "211ddd95ad2044db98dd291dd534f315",
      "65a3c2a4039642f092c2ef717c47f1d3",
      "e65771e1b6684ecaad1d453e9d190222",
      "99ba53a42f4f49e094f4ad2a9313cfe5",
      "8fc601d34b9f48c886bd126ceb70adc8",
      "22d7417acb134f9199d1d6e7daf4d213",
      "d6a5b53d9a21458192dcc7b1c9f4058d"
     ]
    },
    "id": "mENHqXc-1Tv9",
    "outputId": "5592eab8-bacb-49a4-9339-797d9a2a6a5c"
   },
   "outputs": [],
   "source": [
    "route_weather_fg.insert(route_weather)"
   ]
  },
  {
   "cell_type": "code",
   "execution_count": null,
   "metadata": {
    "id": "jSLVmxwEnhid"
   },
   "outputs": [],
   "source": [
    "feature_descriptions_route_weather = [\n",
    "\n",
    "    {\"name\": 'route_id', \"description\":  'the unique identifier of the city'},\n",
    "    {\"name\": 'date', \"description\":  'date of the observation'},\n",
    "    {\"name\": 'temp', \"description\":  'temperature in Fahrenheit'},\n",
    "    {\"name\": 'wind_speed', \"description\":  'wind speed in miles per hour'},\n",
    "    {\"name\": 'description', \"description\":  'description of the weather conditions such as Clear, Cloudy, etc'},\n",
    "    {\"name\": 'precip', \"description\":  'precipitation in inches'},\n",
    "    {\"name\": 'humidity', \"description\":  'humidity observed'},\n",
    "    {\"name\": 'visibility', \"description\":  'visibility observed in miles per hour'},\n",
    "    {\"name\": 'pressure', \"description\":  'pressure observed in millibar'},\n",
    "    {\"name\": 'chanceofrain', \"description\":  'chances of rain'},\n",
    "    {\"name\": 'chanceoffog', \"description\":  'chances of fog'},\n",
    "    {\"name\": 'chanceofsnow', \"description\":  'chances of snow'},\n",
    "    {\"name\": 'chanceofthunder', \"description\":  'chances of thunder'}\n",
    "\n",
    "]\n",
    "\n",
    "for desc in feature_descriptions_route_weather:\n",
    "    route_weather_fg.update_feature_description(desc[\"name\"], desc[\"description\"])"
   ]
  },
  {
   "cell_type": "code",
   "execution_count": null,
   "metadata": {
    "colab": {
     "base_uri": "https://localhost:8080/"
    },
    "id": "Jxd8pFGmnhie",
    "outputId": "d1f01eab-f0a6-4ce0-c11b-ec2567eaee31"
   },
   "outputs": [],
   "source": [
    "route_weather_fg.statistics_config = {\n",
    "    \"enabled\": True,\n",
    "    \"histograms\": True,\n",
    "    \"correlations\": True\n",
    "}\n",
    "\n",
    "route_weather_fg.update_statistics_config()\n",
    "route_weather_fg.compute_statistics()"
   ]
  },
  {
   "cell_type": "markdown",
   "metadata": {
    "id": "BSVVjE60SRB9"
   },
   "source": [
    "## **Fetch data from Feature Store**"
   ]
  },
  {
   "cell_type": "code",
   "execution_count": null,
   "metadata": {
    "id": "OnKU2pS2Wjwb"
   },
   "outputs": [],
   "source": [
    "routes_df_fg = fs.get_feature_group('routes_details_fg', version=1)\n",
    "query = routes_df_fg.select_all()\n",
    "routes_df=query.read()"
   ]
  },
  {
   "cell_type": "code",
   "execution_count": null,
   "metadata": {
    "id": "jp7z87ThYQ4U"
   },
   "outputs": [],
   "source": [
    "route_weather_fg = fs.get_feature_group('route_weather_details_fg', version=1)\n",
    "query = route_weather_fg.select_all()\n",
    "route_weather=query.read()"
   ]
  },
  {
   "cell_type": "code",
   "execution_count": null,
   "metadata": {
    "id": "5NFdmrS0YXuy"
   },
   "outputs": [],
   "source": [
    "drivers_df_fg = fs.get_feature_group('drivers_details_fg', version=1)\n",
    "query = drivers_df_fg.select_all()\n",
    "drivers_df=query.read()"
   ]
  },
  {
   "cell_type": "code",
   "execution_count": null,
   "metadata": {
    "id": "f7g2yHmpYViK"
   },
   "outputs": [],
   "source": [
    "trucks_df_fg = fs.get_feature_group('truck_details_fg', version=1)\n",
    "query = trucks_df_fg.select_all()\n",
    "trucks_df=query.read()"
   ]
  },
  {
   "cell_type": "code",
   "execution_count": null,
   "metadata": {
    "id": "D7zHnUY_YUNm"
   },
   "outputs": [],
   "source": [
    "traffic_df_fg = fs.get_feature_group('traffic_details_fg', version=1)\n",
    "query = traffic_df_fg.select_all()\n",
    "traffic_df=query.read()"
   ]
  },
  {
   "cell_type": "code",
   "execution_count": null,
   "metadata": {
    "id": "xDD0XMIbYTA8"
   },
   "outputs": [],
   "source": [
    "schedule_df_fg = fs.get_feature_group('truck_schedule_details_fg', version=1)\n",
    "query = schedule_df_fg.select_all()\n",
    "schedule_df=query.read()"
   ]
  },
  {
   "cell_type": "code",
   "execution_count": null,
   "metadata": {
    "id": "RjOcHa-DYR37"
   },
   "outputs": [],
   "source": [
    "weather_df_fg = fs.get_feature_group('city_weather_details_fg', version=1)\n",
    "query = weather_df_fg.select_all()\n",
    "weather_df=query.read()"
   ]
  },
  {
   "cell_type": "markdown",
   "metadata": {
    "id": "L0CkDGZr1YD7"
   },
   "source": [
    "## **Data Preprocessing**"
   ]
  },
  {
   "cell_type": "markdown",
   "metadata": {
    "id": "fr09h0diUWyn"
   },
   "source": [
    "### **Data Preprocessing and Leakage**\n",
    "\n",
    "Data leakage is a situation where information from the test or prediction data is inadvertently used during the training process of a machine learning model. This can occur when information from the test or prediction data is leaked into the training data, and the model uses this information to improve its performance during the training process.\n",
    "\n",
    "Data leakage can occur during the preprocessing phase of machine learning when information from the test or prediction data is used to preprocess the training data, inadvertently leaking information from the test or prediction data into the training data.\n",
    "\n",
    "For example, consider a scenario where the preprocessing step involves imputing missing values in the dataset. If the missing values are imputed using the mean or median values of the entire dataset, including the test and prediction data, then the imputed values in the training data may be influenced by the values in the test and prediction data. This can lead to data leakage, as the model may learn to recognize patterns in the test and prediction data during the training process, leading to overfitting and poor generalization performance.\n",
    "\n",
    "\n",
    "To avoid data leakage, it's important to perform the data preprocessing steps on the training data only, and then apply the same preprocessing steps to the test and prediction data separately. This ensures that the test and prediction data remain unseen by the model during the training process, and helps to prevent overfitting and improve the accuracy of the model.\n",
    "\n",
    "In the context of this problem, we will perform data preprocessing steps together for the sake of simplicity, which could potentially lead to data leakage. However, in real-world scenarios, it's important to treat the test and prediction data separately and apply the necessary preprocessing steps separately, based on the characteristics of the data."
   ]
  },
  {
   "cell_type": "markdown",
   "metadata": {
    "id": "pocIfqsRUeFG"
   },
   "source": [
    "### **Missing Value Detection and Imputation**\n",
    "\n",
    "Real world datasets are never friendly to data scientists. They always pose great challenges to those who are dealing with them due to many different reasons and one of them is “missing values”\n",
    "\n",
    "Missing values can be imputed with a provided constant value, or using the statistics (mean, median or most frequent) of each column in which the missing values are located"
   ]
  },
  {
   "cell_type": "code",
   "execution_count": null,
   "metadata": {
    "colab": {
     "base_uri": "https://localhost:8080/",
     "height": 112
    },
    "id": "DQ8IYeBs1uwk",
    "outputId": "a6a23620-967d-4d78-be1c-6d079c8ea7f3"
   },
   "outputs": [],
   "source": [
    "drivers_df.head(2)"
   ]
  },
  {
   "cell_type": "code",
   "execution_count": null,
   "metadata": {
    "id": "Q7TB1RLycmGw"
   },
   "outputs": [],
   "source": [
    "drivers_df=drivers_df.drop(columns=['event_time'])"
   ]
  },
  {
   "cell_type": "code",
   "execution_count": null,
   "metadata": {
    "colab": {
     "base_uri": "https://localhost:8080/"
    },
    "id": "dnoRKFho1tsX",
    "outputId": "40c42611-10d0-427e-dafd-053fb49b10fb"
   },
   "outputs": [],
   "source": [
    "# Check the null values\n",
    "drivers_df.isna().sum()"
   ]
  },
  {
   "cell_type": "code",
   "execution_count": null,
   "metadata": {
    "colab": {
     "base_uri": "https://localhost:8080/",
     "height": 89
    },
    "id": "oTRe46Pq2Rqf",
    "outputId": "1c25b8f7-3077-4fd8-dc8b-f7e265bce751"
   },
   "outputs": [],
   "source": [
    "# Duplicates in drivers data\n",
    "drivers_df[drivers_df.duplicated(subset=['driver_id'])]"
   ]
  },
  {
   "cell_type": "code",
   "execution_count": null,
   "metadata": {
    "colab": {
     "base_uri": "https://localhost:8080/",
     "height": 112
    },
    "id": "mBCHj0od1td8",
    "outputId": "449627ff-b505-4780-dae1-1fed5f5c6510"
   },
   "outputs": [],
   "source": [
    "# Trucks data\n",
    "trucks_df.head(2)"
   ]
  },
  {
   "cell_type": "code",
   "execution_count": null,
   "metadata": {
    "id": "KYjdE_Oec1sB"
   },
   "outputs": [],
   "source": [
    "trucks_df=trucks_df.drop(columns=['event_time'])"
   ]
  },
  {
   "cell_type": "code",
   "execution_count": null,
   "metadata": {
    "colab": {
     "base_uri": "https://localhost:8080/"
    },
    "id": "hJ2r1Iaz1tbv",
    "outputId": "db513cb0-a43f-44dc-ad7c-7f1b7093bfdc"
   },
   "outputs": [],
   "source": [
    "# Check null values\n",
    "trucks_df.isna().sum()"
   ]
  },
  {
   "cell_type": "code",
   "execution_count": null,
   "metadata": {
    "colab": {
     "base_uri": "https://localhost:8080/"
    },
    "id": "3MhQSVsN191I",
    "outputId": "10b8af65-26b1-4391-9089-2ea3e5d74080"
   },
   "outputs": [],
   "source": [
    "# Checking the different load capacities\n",
    "trucks_df['load_capacity_pounds'].unique()"
   ]
  },
  {
   "cell_type": "code",
   "execution_count": null,
   "metadata": {
    "colab": {
     "base_uri": "https://localhost:8080/"
    },
    "id": "5LTSqLKw1tZc",
    "outputId": "b033b2f2-95e2-45a5-8523-f9ea7a82506a"
   },
   "outputs": [],
   "source": [
    "# Most common value\n",
    "trucks_df['load_capacity_pounds'].mode()"
   ]
  },
  {
   "cell_type": "code",
   "execution_count": null,
   "metadata": {
    "colab": {
     "base_uri": "https://localhost:8080/"
    },
    "id": "4OJU0TqT2Lug",
    "outputId": "f87182e8-f727-4523-dd4d-3d0d25698a71"
   },
   "outputs": [],
   "source": [
    "#check null values\n",
    "trucks_df.isna().sum()"
   ]
  },
  {
   "cell_type": "code",
   "execution_count": null,
   "metadata": {
    "colab": {
     "base_uri": "https://localhost:8080/",
     "height": 89
    },
    "id": "IM9Wi_-g2LrQ",
    "outputId": "580e066c-8aef-4d25-caab-9db42bc82d74"
   },
   "outputs": [],
   "source": [
    "# Check for duplicates\n",
    "trucks_df[trucks_df.duplicated(subset=['truck_id'])]"
   ]
  },
  {
   "cell_type": "code",
   "execution_count": null,
   "metadata": {
    "colab": {
     "base_uri": "https://localhost:8080/",
     "height": 112
    },
    "id": "IRKloWbU2Lo6",
    "outputId": "577d9132-b119-4d5a-ccab-afd5a1f1dd95"
   },
   "outputs": [],
   "source": [
    "#\n",
    "routes_df.head(2)"
   ]
  },
  {
   "cell_type": "code",
   "execution_count": null,
   "metadata": {
    "id": "8aldqLGDc6Jz"
   },
   "outputs": [],
   "source": [
    "routes_df=routes_df.drop(columns=['event_time'])"
   ]
  },
  {
   "cell_type": "code",
   "execution_count": null,
   "metadata": {
    "colab": {
     "base_uri": "https://localhost:8080/"
    },
    "id": "8Tj2jQFf2Lmx",
    "outputId": "e1b9c174-4ff8-4f09-d1d5-968d658aaae4"
   },
   "outputs": [],
   "source": [
    "# Sum of null values\n",
    "routes_df.isna().sum()"
   ]
  },
  {
   "cell_type": "code",
   "execution_count": null,
   "metadata": {
    "colab": {
     "base_uri": "https://localhost:8080/",
     "height": 89
    },
    "id": "obPdfzx82Lkk",
    "outputId": "3ebd04e6-8d46-460b-a64a-687852f35536"
   },
   "outputs": [],
   "source": [
    "# check duplicates\n",
    "routes_df[routes_df.duplicated(subset=['route_id'])]"
   ]
  },
  {
   "cell_type": "code",
   "execution_count": null,
   "metadata": {
    "colab": {
     "base_uri": "https://localhost:8080/",
     "height": 89
    },
    "id": "dzImNx_p2Lig",
    "outputId": "e5839afd-269c-4ea2-d5eb-31f67bc9a77d"
   },
   "outputs": [],
   "source": [
    "# check duplicates across origin and destination\n",
    "routes_df[routes_df.duplicated(subset=['route_id','destination_id','origin_id'])]"
   ]
  },
  {
   "cell_type": "code",
   "execution_count": null,
   "metadata": {
    "colab": {
     "base_uri": "https://localhost:8080/",
     "height": 112
    },
    "id": "ypbBchar2LcK",
    "outputId": "85fb5c1e-ff0f-412b-8045-db512db76aba"
   },
   "outputs": [],
   "source": [
    "schedule_df.head(2)"
   ]
  },
  {
   "cell_type": "code",
   "execution_count": null,
   "metadata": {
    "colab": {
     "base_uri": "https://localhost:8080/"
    },
    "id": "8iK0DivL3fQg",
    "outputId": "544f7f23-678f-450f-9e5d-f64631015789"
   },
   "outputs": [],
   "source": [
    "# sum of null values in schedule\n",
    "schedule_df.isna().sum()"
   ]
  },
  {
   "cell_type": "code",
   "execution_count": null,
   "metadata": {
    "colab": {
     "base_uri": "https://localhost:8080/",
     "height": 89
    },
    "id": "14QB-RMo3fNB",
    "outputId": "aa88fb16-19ff-4710-ade7-7fda887a3fa7"
   },
   "outputs": [],
   "source": [
    "# check for duplicates\n",
    "schedule_df[schedule_df.duplicated()]"
   ]
  },
  {
   "cell_type": "code",
   "execution_count": null,
   "metadata": {
    "colab": {
     "base_uri": "https://localhost:8080/",
     "height": 112
    },
    "id": "u-ueMk0x30rT",
    "outputId": "99ce7f6c-38bb-4d0f-fa74-e58c9c5decc4"
   },
   "outputs": [],
   "source": [
    "weather_df.head(2)"
   ]
  },
  {
   "cell_type": "code",
   "execution_count": null,
   "metadata": {
    "colab": {
     "base_uri": "https://localhost:8080/",
     "height": 300
    },
    "id": "R_lANMnd30oU",
    "outputId": "d2349e22-38bd-4823-f66b-1b7f4331725a"
   },
   "outputs": [],
   "source": [
    "# statistical description\n",
    "weather_df.describe()"
   ]
  },
  {
   "cell_type": "code",
   "execution_count": null,
   "metadata": {
    "colab": {
     "base_uri": "https://localhost:8080/",
     "height": 89
    },
    "id": "OKVNNP5n30jO",
    "outputId": "b8a187ba-64f0-4e03-f341-6a93eb92a991"
   },
   "outputs": [],
   "source": [
    "# check for duplicates\n",
    "weather_df[weather_df.duplicated(subset=['city_id','date','hour'])]"
   ]
  },
  {
   "cell_type": "code",
   "execution_count": null,
   "metadata": {
    "id": "yHwzrkAD30hP"
   },
   "outputs": [],
   "source": [
    "# drop duplicates\n",
    "weather_df=weather_df.drop_duplicates(subset=['city_id','date','hour'])"
   ]
  },
  {
   "cell_type": "code",
   "execution_count": null,
   "metadata": {
    "id": "dobr3-vN3fKn"
   },
   "outputs": [],
   "source": [
    "# drop unnecessary cols\n",
    "weather_df=weather_df.drop(columns=['chanceofrain','chanceoffog','chanceofsnow','chanceofthunder'])"
   ]
  },
  {
   "cell_type": "code",
   "execution_count": null,
   "metadata": {
    "id": "aaCa6hIm2LaE"
   },
   "outputs": [],
   "source": [
    "# Convert 'hour' to a 4-digit string format\n",
    "weather_df['hour'] = weather_df['hour'].apply(lambda x: f'{x:04d}')\n",
    "\n",
    "# Convert 'hour' to datetime format\n",
    "weather_df['hour'] = pd.to_datetime(weather_df['hour'], format='%H%M').dt.time\n",
    "\n",
    "# Combine 'date' and 'hour' to create a new datetime column 'custom_date' and insert it at index 1\n",
    "weather_date_val = pd.to_datetime(weather_df['date'].astype(str) + ' ' + weather_df['hour'].astype(str))\n",
    "weather_df.insert(1, 'custom_date', weather_date_val)\n"
   ]
  },
  {
   "cell_type": "code",
   "execution_count": null,
   "metadata": {
    "colab": {
     "base_uri": "https://localhost:8080/",
     "height": 112
    },
    "id": "DAok3GWt4q6N",
    "outputId": "b4781885-dadf-4677-e5b1-13758908fdb3"
   },
   "outputs": [],
   "source": [
    "weather_df.head(2)"
   ]
  },
  {
   "cell_type": "code",
   "execution_count": null,
   "metadata": {
    "colab": {
     "base_uri": "https://localhost:8080/",
     "height": 300
    },
    "id": "bIDYtVpS4q3w",
    "outputId": "df686a1f-8326-42dd-eb74-d83eddbc7062"
   },
   "outputs": [],
   "source": [
    "weather_df.describe()"
   ]
  },
  {
   "cell_type": "code",
   "execution_count": null,
   "metadata": {
    "colab": {
     "base_uri": "https://localhost:8080/",
     "height": 112
    },
    "id": "kSdg0ImN6Sgm",
    "outputId": "bc7b35fe-0c3a-4053-b990-44e8fa3a74d6"
   },
   "outputs": [],
   "source": [
    "#drop city_id from here\n",
    "route_weather.head(2)"
   ]
  },
  {
   "cell_type": "code",
   "execution_count": null,
   "metadata": {
    "colab": {
     "base_uri": "https://localhost:8080/",
     "height": 300
    },
    "id": "DnbVmQNk6SdR",
    "outputId": "4f0e5190-8c25-4184-9330-3392e32aeaea"
   },
   "outputs": [],
   "source": [
    "route_weather.describe()"
   ]
  },
  {
   "cell_type": "code",
   "execution_count": null,
   "metadata": {
    "colab": {
     "base_uri": "https://localhost:8080/",
     "height": 89
    },
    "id": "U5bPQ4RK6SbT",
    "outputId": "624a22e8-f1de-46bb-8fcb-ddf7a48c5469"
   },
   "outputs": [],
   "source": [
    "# check for duplicates\n",
    "route_weather[route_weather.duplicated(subset=['route_id','date'])]"
   ]
  },
  {
   "cell_type": "code",
   "execution_count": null,
   "metadata": {
    "id": "JATcRzXT6m_I"
   },
   "outputs": [],
   "source": [
    "# Drop unnecessary cols\n",
    "route_weather=route_weather.drop(columns=['chanceofrain','chanceoffog','chanceofsnow','chanceofthunder'])"
   ]
  },
  {
   "cell_type": "code",
   "execution_count": null,
   "metadata": {
    "colab": {
     "base_uri": "https://localhost:8080/"
    },
    "id": "nSHeUwpF6m2T",
    "outputId": "85ec1e50-269c-49ab-faae-547dcf119e2e"
   },
   "outputs": [],
   "source": [
    "route_weather.isna().sum()"
   ]
  },
  {
   "cell_type": "code",
   "execution_count": null,
   "metadata": {
    "colab": {
     "base_uri": "https://localhost:8080/",
     "height": 112
    },
    "id": "487EqHOe67IJ",
    "outputId": "8307be5f-4536-48af-b116-31560ab733c0"
   },
   "outputs": [],
   "source": [
    "traffic_df.head(2)"
   ]
  },
  {
   "cell_type": "code",
   "execution_count": null,
   "metadata": {
    "colab": {
     "base_uri": "https://localhost:8080/",
     "height": 89
    },
    "id": "4yEgMLJJ8Ivq",
    "outputId": "ba379a20-d29c-4e42-f919-800409afc78f"
   },
   "outputs": [],
   "source": [
    "traffic_df[traffic_df.duplicated(subset=['route_id','date','hour'])]"
   ]
  },
  {
   "cell_type": "code",
   "execution_count": null,
   "metadata": {
    "id": "ckA0dcgi80cJ"
   },
   "outputs": [],
   "source": [
    "traffic_df=traffic_df.drop_duplicates(subset=['route_id','date','hour'],keep='first')"
   ]
  },
  {
   "cell_type": "code",
   "execution_count": null,
   "metadata": {
    "colab": {
     "base_uri": "https://localhost:8080/"
    },
    "id": "VUJ6CS6j67Ev",
    "outputId": "2a83e489-6304-4088-df33-429e7094b66f"
   },
   "outputs": [],
   "source": [
    "traffic_df.isna().sum()"
   ]
  },
  {
   "cell_type": "code",
   "execution_count": null,
   "metadata": {
    "id": "jqh_tUB975V_"
   },
   "outputs": [],
   "source": [
    "# Convert 'hour' to a 4-digit string format\n",
    "traffic_df['hour'] = traffic_df['hour'].apply(lambda x: f'{x:04d}')\n",
    "\n",
    "# Convert 'hour' to datetime format\n",
    "traffic_df['hour'] = pd.to_datetime(traffic_df['hour'], format='%H%M').dt.time\n",
    "\n",
    "# Combine 'date' and 'hour' to create a new datetime column 'custom_date' and insert it at index 1\n",
    "traffic_custom_date = pd.to_datetime(traffic_df['date'].astype(str) + ' ' + traffic_df['hour'].astype(str))\n",
    "traffic_df.insert(1, 'custom_date', traffic_custom_date)\n"
   ]
  },
  {
   "cell_type": "code",
   "execution_count": null,
   "metadata": {
    "colab": {
     "base_uri": "https://localhost:8080/",
     "height": 206
    },
    "id": "PlqD50zJ75Sk",
    "outputId": "403065ad-1d8b-4f9e-dd28-0672ea8f9d11"
   },
   "outputs": [],
   "source": [
    "traffic_df.head(5)"
   ]
  },
  {
   "cell_type": "code",
   "execution_count": null,
   "metadata": {
    "colab": {
     "base_uri": "https://localhost:8080/",
     "height": 112
    },
    "id": "EpGZ08Th5b9e",
    "outputId": "81fe3f65-8ca9-4265-d5d2-65656e1a74f2"
   },
   "outputs": [],
   "source": [
    "schedule_df.head(2)"
   ]
  },
  {
   "cell_type": "code",
   "execution_count": null,
   "metadata": {
    "colab": {
     "base_uri": "https://localhost:8080/"
    },
    "id": "XA6rHfW65b52",
    "outputId": "cf4126c7-b193-4d1e-d9cf-c98e673d0ad2"
   },
   "outputs": [],
   "source": [
    "schedule_df.isna().sum()"
   ]
  },
  {
   "cell_type": "code",
   "execution_count": null,
   "metadata": {
    "colab": {
     "base_uri": "https://localhost:8080/",
     "height": 457
    },
    "id": "ZC3vKfYA5b3t",
    "outputId": "5b5047e4-783d-4fc8-b9d5-a4b860e2f459"
   },
   "outputs": [],
   "source": [
    "schedule_df.describe(include='all')"
   ]
  },
  {
   "cell_type": "code",
   "execution_count": null,
   "metadata": {
    "colab": {
     "base_uri": "https://localhost:8080/",
     "height": 89
    },
    "id": "15CGx8B34q1o",
    "outputId": "ba6d4561-d974-4ae3-8884-15297e602f11"
   },
   "outputs": [],
   "source": [
    "schedule_df[schedule_df.duplicated(subset=['truck_id','route_id','departure_date'])]"
   ]
  },
  {
   "cell_type": "markdown",
   "metadata": {
    "id": "wpZl-LaY1dqc"
   },
   "source": [
    "## **Feature Engineering**\n",
    "\n",
    "Feature engineering is a crucial step in the machine learning pipeline where we transform and create new features from the existing data. This process aims to provide the machine learning model with the most relevant and informative input variables to make accurate predictions or classifications."
   ]
  },
  {
   "cell_type": "markdown",
   "metadata": {
    "id": "lSpRZUOZalXS"
   },
   "source": [
    "Merge Route Weather with Schedule Data"
   ]
  },
  {
   "cell_type": "code",
   "execution_count": null,
   "metadata": {
    "id": "ii-jOAdv9lyk"
   },
   "outputs": [],
   "source": [
    "schedule_df.insert(0,'unique_id',np.arange(len(schedule_df)))"
   ]
  },
  {
   "cell_type": "code",
   "execution_count": null,
   "metadata": {
    "id": "pSe5Iwtz9lvF"
   },
   "outputs": [],
   "source": [
    "nearest_6h_schedule_df=schedule_df.copy()"
   ]
  },
  {
   "cell_type": "code",
   "execution_count": null,
   "metadata": {
    "id": "FQMcXj5K9ls8"
   },
   "outputs": [],
   "source": [
    "nearest_6h_schedule_df['estimated_arrival']=nearest_6h_schedule_df['estimated_arrival'].dt.ceil(\"6H\")\n",
    "nearest_6h_schedule_df['departure_date']=nearest_6h_schedule_df['departure_date'].dt.floor(\"6H\")"
   ]
  },
  {
   "cell_type": "code",
   "execution_count": null,
   "metadata": {
    "colab": {
     "base_uri": "https://localhost:8080/",
     "height": 112
    },
    "id": "qYZkXqv99lqs",
    "outputId": "7675cbdd-62b8-48de-94af-4b2e6f200404"
   },
   "outputs": [],
   "source": [
    "nearest_6h_schedule_df.head(2)"
   ]
  },
  {
   "cell_type": "code",
   "execution_count": null,
   "metadata": {
    "id": "XQtXSBt-9lox"
   },
   "outputs": [],
   "source": [
    "\n",
    "# Assign a new column 'date' using a list comprehension to generate date ranges between 'departure_date' and 'estimated_arrival' with a frequency of 6 hours\n",
    "# This will create a list of date ranges for each row\n",
    "# Explode the 'date' column to create separate rows for each date range\n",
    "\n",
    "exploded_6h_scheduled_df=(nearest_6h_schedule_df.assign(date = [pd.date_range(start, end, freq='6H')\n",
    "                      for start, end\n",
    "                      in zip(nearest_6h_schedule_df['departure_date'], nearest_6h_schedule_df['estimated_arrival'])]).explode('date', ignore_index = True))"
   ]
  },
  {
   "cell_type": "code",
   "execution_count": null,
   "metadata": {
    "colab": {
     "base_uri": "https://localhost:8080/",
     "height": 112
    },
    "id": "awlHe-Jo9lmq",
    "outputId": "dae6686a-26d0-450c-878c-5fbde52bfb72"
   },
   "outputs": [],
   "source": [
    "exploded_6h_scheduled_df.head(2)"
   ]
  },
  {
   "cell_type": "code",
   "execution_count": null,
   "metadata": {
    "id": "-gjNXuCD9lky"
   },
   "outputs": [],
   "source": [
    "schduled_weather=exploded_6h_scheduled_df.merge(route_weather,on=['route_id','date'],how='left')"
   ]
  },
  {
   "cell_type": "code",
   "execution_count": null,
   "metadata": {
    "colab": {
     "base_uri": "https://localhost:8080/",
     "height": 175
    },
    "id": "inFcfF309li3",
    "outputId": "2a3c4b57-6ba1-4fcb-c945-5d25fd1e3639"
   },
   "outputs": [],
   "source": [
    "schduled_weather.head(4)"
   ]
  },
  {
   "cell_type": "code",
   "execution_count": null,
   "metadata": {
    "id": "mNfv0Vwb9lgQ"
   },
   "outputs": [],
   "source": [
    "# Define a custom function to calculate mode\n",
    "def custom_mode(x):\n",
    "    return x.mode().iloc[0]\n",
    "\n",
    "# Group by specified columns and aggregate\n",
    "schedule_weather_grp = schduled_weather.groupby(['unique_id','truck_id','route_id'], as_index=False).agg(\n",
    "    route_avg_temp=('temp','mean'),\n",
    "    route_avg_wind_speed=('wind_speed','mean'),\n",
    "    route_avg_precip=('precip','mean'),\n",
    "    route_avg_humidity=('humidity','mean'),\n",
    "    route_avg_visibility=('visibility','mean'),\n",
    "    route_avg_pressure=('pressure','mean'),\n",
    "    route_description=('description', custom_mode)\n",
    ")\n"
   ]
  },
  {
   "cell_type": "code",
   "execution_count": null,
   "metadata": {
    "colab": {
     "base_uri": "https://localhost:8080/",
     "height": 112
    },
    "id": "GsWA8wum9ld7",
    "outputId": "9244e547-81cf-4c34-9870-66f2a4195dbd"
   },
   "outputs": [],
   "source": [
    "schedule_weather_grp.head(2)"
   ]
  },
  {
   "cell_type": "code",
   "execution_count": null,
   "metadata": {
    "id": "un0vH6u89lby"
   },
   "outputs": [],
   "source": [
    "schedule_weather_merge=schedule_df.merge(schedule_weather_grp,on=['unique_id','truck_id','route_id'],how='left')"
   ]
  },
  {
   "cell_type": "code",
   "execution_count": null,
   "metadata": {
    "colab": {
     "base_uri": "https://localhost:8080/"
    },
    "id": "DwbanTcxaHIx",
    "outputId": "e342c49e-8268-464e-a9ef-17b16c081b50"
   },
   "outputs": [],
   "source": [
    "schedule_weather_merge.shape"
   ]
  },
  {
   "cell_type": "code",
   "execution_count": null,
   "metadata": {
    "colab": {
     "base_uri": "https://localhost:8080/"
    },
    "id": "REq4DnJzaHFd",
    "outputId": "7307f6c7-4c27-44c6-bf5c-544669b7b86a"
   },
   "outputs": [],
   "source": [
    "schedule_weather_merge.isna().sum()"
   ]
  },
  {
   "cell_type": "markdown",
   "metadata": {
    "id": "DJtZIZ3paqN2"
   },
   "source": [
    "Find Origin and Destination city Weather"
   ]
  },
  {
   "cell_type": "code",
   "execution_count": null,
   "metadata": {
    "colab": {
     "base_uri": "https://localhost:8080/",
     "height": 112
    },
    "id": "0i8URRWVaHDS",
    "outputId": "4b57c498-416e-4df6-9492-2d5253935380"
   },
   "outputs": [],
   "source": [
    "weather_df.head(2)"
   ]
  },
  {
   "cell_type": "code",
   "execution_count": null,
   "metadata": {
    "id": "y4CI25-PaHBK"
   },
   "outputs": [],
   "source": [
    "#take hourly as weather data available hourly\n",
    "nearest_hour_schedule_df=schedule_df.copy()\n",
    "nearest_hour_schedule_df['estimated_arrival_nearest_hour']=nearest_hour_schedule_df['estimated_arrival'].dt.round(\"H\")\n",
    "nearest_hour_schedule_df['departure_date_nearest_hour']=nearest_hour_schedule_df['departure_date'].dt.round(\"H\")\n",
    "nearest_hour_schedule_route_df=pd.merge(nearest_hour_schedule_df, routes_df, on='route_id', how='left')"
   ]
  },
  {
   "cell_type": "code",
   "execution_count": null,
   "metadata": {
    "colab": {
     "base_uri": "https://localhost:8080/"
    },
    "id": "WrDkHZ--aG-0",
    "outputId": "78077a9e-2fe2-4d25-889d-8ce59a7e9aa2"
   },
   "outputs": [],
   "source": [
    "nearest_hour_schedule_route_df.shape"
   ]
  },
  {
   "cell_type": "code",
   "execution_count": null,
   "metadata": {
    "colab": {
     "base_uri": "https://localhost:8080/"
    },
    "id": "pYBpJSjibLGu",
    "outputId": "c61dee06-f315-4405-a34b-4757aeea8e3d"
   },
   "outputs": [],
   "source": [
    "nearest_hour_schedule_route_df.dtypes"
   ]
  },
  {
   "cell_type": "code",
   "execution_count": null,
   "metadata": {
    "colab": {
     "base_uri": "https://localhost:8080/"
    },
    "id": "VP6ch2CwbPZb",
    "outputId": "11fc486e-f222-434d-ca49-22a86ce81dcd"
   },
   "outputs": [],
   "source": [
    "weather_df.dtypes"
   ]
  },
  {
   "cell_type": "code",
   "execution_count": null,
   "metadata": {
    "id": "3VbjzC_Sa9aB"
   },
   "outputs": [],
   "source": [
    "# Create a copy of the 'weather_df' DataFrame for manipulation\n",
    "origin_weather_data = weather_df.copy()\n",
    "\n",
    "# Drop the 'date' and 'hour' columns from 'origin_weather_data'\n",
    "origin_weather_data = origin_weather_data.drop(columns=['date', 'hour'])\n",
    "\n",
    "origin_weather_data.columns = ['origin_id','departure_date_nearest_hour', 'origin_temp', 'origin_wind_speed','origin_description', 'origin_precip',\n",
    "       'origin_humidity', 'origin_visibility', 'origin_pressure']\n",
    "\n",
    "# Create a copy of the 'weather_df' DataFrame for manipulation\n",
    "destination_weather_data = weather_df.copy()\n",
    "\n",
    "# Drop the 'date' and 'hour' columns from 'destination_weather_data'\n",
    "destination_weather_data = destination_weather_data.drop(columns=['date', 'hour'])\n",
    "\n",
    "destination_weather_data.columns = ['destination_id', 'estimated_arrival_nearest_hour','destination_temp', 'destination_wind_speed','destination_description', 'destination_precip',\n",
    "       'destination_humidity', 'destination_visibility', 'destination_pressure' ]\n",
    "\n",
    "# Merge 'nearest_hour_schedule_route_df' with 'origin_weather_data' based on specified columns\n",
    "origin_weather_merge = pd.merge(nearest_hour_schedule_route_df, origin_weather_data, on=['origin_id','departure_date_nearest_hour'], how='left')\n",
    "\n",
    "# Merge 'origin_weather_merge' with 'destination_weather_data' based on specified columns\n",
    "origin_destination_weather = pd.merge(origin_weather_merge, destination_weather_data , on=['destination_id', 'estimated_arrival_nearest_hour'], how='left')\n"
   ]
  },
  {
   "cell_type": "code",
   "execution_count": null,
   "metadata": {
    "colab": {
     "base_uri": "https://localhost:8080/",
     "height": 167
    },
    "id": "wKI7zgBha9Wf",
    "outputId": "d9c61028-f279-4df1-8305-eb27988a821a"
   },
   "outputs": [],
   "source": [
    "origin_destination_weather.head(2)"
   ]
  },
  {
   "cell_type": "code",
   "execution_count": null,
   "metadata": {
    "colab": {
     "base_uri": "https://localhost:8080/"
    },
    "id": "gNJdQ1JOa9UP",
    "outputId": "7f03e23a-dfef-42b9-d2db-92aac51cb21c"
   },
   "outputs": [],
   "source": [
    "origin_destination_weather.shape"
   ]
  },
  {
   "cell_type": "markdown",
   "metadata": {
    "id": "NAJVtf3qcVLN"
   },
   "source": [
    "Traffic and Schedule Data Merge"
   ]
  },
  {
   "cell_type": "code",
   "execution_count": null,
   "metadata": {
    "colab": {
     "base_uri": "https://localhost:8080/",
     "height": 206
    },
    "id": "WY7AFSTacShR",
    "outputId": "1711e6bb-71fe-4cc3-869d-22f2e89cf551"
   },
   "outputs": [],
   "source": [
    "traffic_df.head(5)"
   ]
  },
  {
   "cell_type": "code",
   "execution_count": null,
   "metadata": {
    "colab": {
     "base_uri": "https://localhost:8080/"
    },
    "id": "Hx5R91vPcSdu",
    "outputId": "4a319927-1531-4aac-d34d-c71251a10695"
   },
   "outputs": [],
   "source": [
    "traffic_df.dtypes"
   ]
  },
  {
   "cell_type": "code",
   "execution_count": null,
   "metadata": {
    "colab": {
     "base_uri": "https://localhost:8080/",
     "height": 206
    },
    "id": "OKaRzoTqcSbq",
    "outputId": "84bf19f5-a95e-4069-9489-603391df42c7"
   },
   "outputs": [],
   "source": [
    "schedule_df.head(5)"
   ]
  },
  {
   "cell_type": "code",
   "execution_count": null,
   "metadata": {
    "colab": {
     "base_uri": "https://localhost:8080/"
    },
    "id": "3MgC2PQZcSZU",
    "outputId": "38a0b7f8-dbb5-4a7e-a4fe-44e22e849cde"
   },
   "outputs": [],
   "source": [
    "schedule_df.dtypes"
   ]
  },
  {
   "cell_type": "code",
   "execution_count": null,
   "metadata": {
    "id": "8fyEAbPncx-F"
   },
   "outputs": [],
   "source": [
    "# Create a copy of the schedule DataFrame for manipulation\n",
    "nearest_hour_schedule_df = schedule_df.copy()\n",
    "\n",
    "# Round 'estimated_arrival' times to the nearest hour\n",
    "nearest_hour_schedule_df['estimated_arrival'] = nearest_hour_schedule_df['estimated_arrival'].dt.round(\"H\")\n",
    "\n",
    "# Round 'departure_date' times to the nearest hour\n",
    "nearest_hour_schedule_df['departure_date'] = nearest_hour_schedule_df['departure_date'].dt.round(\"H\")"
   ]
  },
  {
   "cell_type": "code",
   "execution_count": null,
   "metadata": {
    "colab": {
     "base_uri": "https://localhost:8080/",
     "height": 206
    },
    "id": "XgpwhNVecx6p",
    "outputId": "bb656ebd-c59d-4602-9bda-07c5e9cad9de"
   },
   "outputs": [],
   "source": [
    "nearest_hour_schedule_df.head(5)"
   ]
  },
  {
   "cell_type": "code",
   "execution_count": null,
   "metadata": {
    "id": "kRI8oTmkcx4b"
   },
   "outputs": [],
   "source": [
    "hourly_exploded_scheduled_df=(nearest_hour_schedule_df.assign(custom_date = [pd.date_range(start, end, freq='H')  # Create custom date ranges\n",
    "                      for start, end\n",
    "                      in zip(nearest_hour_schedule_df['departure_date'], nearest_hour_schedule_df['estimated_arrival'])])  # Using departure and estimated arrival times\n",
    "                      .explode('custom_date', ignore_index = True))  # Explode the DataFrame based on the custom date range"
   ]
  },
  {
   "cell_type": "code",
   "execution_count": null,
   "metadata": {
    "colab": {
     "base_uri": "https://localhost:8080/",
     "height": 363
    },
    "id": "931usgy5cx2O",
    "outputId": "5de3b4c3-dd0b-459a-95a4-9f33cccba1d9"
   },
   "outputs": [],
   "source": [
    "hourly_exploded_scheduled_df.head(10)"
   ]
  },
  {
   "cell_type": "code",
   "execution_count": null,
   "metadata": {
    "id": "XlFvi9oxcx0E"
   },
   "outputs": [],
   "source": [
    "scheduled_traffic=hourly_exploded_scheduled_df.merge(traffic_df,on=['route_id','custom_date'],how='left')"
   ]
  },
  {
   "cell_type": "code",
   "execution_count": null,
   "metadata": {
    "id": "mRMfa-SIc_Hl"
   },
   "outputs": [],
   "source": [
    "# Define a custom aggregation function for accidents\n",
    "def custom_agg(values):\n",
    "    \"\"\"\n",
    "    Custom aggregation function to determine if any value in a group is 1 (indicating an accident).\n",
    "\n",
    "    Args:\n",
    "    values (iterable): Iterable of values in a group.\n",
    "\n",
    "    Returns:\n",
    "    int: 1 if any value is 1, else 0.\n",
    "    \"\"\"\n",
    "    if any(values == 1):\n",
    "        return 1\n",
    "    else:\n",
    "        return 0\n",
    "\n",
    "# Group by 'unique_id', 'truck_id', and 'route_id', and apply custom aggregation\n",
    "scheduled_route_traffic = scheduled_traffic.groupby(['unique_id', 'truck_id', 'route_id'], as_index=False).agg(\n",
    "    avg_no_of_vehicles=('no_of_vehicles', 'mean'),\n",
    "    accident=('accident', custom_agg)\n",
    ")\n"
   ]
  },
  {
   "cell_type": "code",
   "execution_count": null,
   "metadata": {
    "colab": {
     "base_uri": "https://localhost:8080/",
     "height": 206
    },
    "id": "mrViO7aoc_EF",
    "outputId": "69395357-66d4-479b-f853-a9e8df4f72d9"
   },
   "outputs": [],
   "source": [
    "scheduled_route_traffic.head(5)"
   ]
  },
  {
   "cell_type": "markdown",
   "metadata": {
    "id": "CtCwhcCCdJLg"
   },
   "source": [
    "Merge all dataframes"
   ]
  },
  {
   "cell_type": "code",
   "execution_count": null,
   "metadata": {
    "id": "TxZF9-KPc_B9"
   },
   "outputs": [],
   "source": [
    "origin_destination_weather_traffic_merge=origin_destination_weather.merge(scheduled_route_traffic,on=['unique_id','truck_id','route_id'],how='left')"
   ]
  },
  {
   "cell_type": "code",
   "execution_count": null,
   "metadata": {
    "colab": {
     "base_uri": "https://localhost:8080/",
     "height": 313
    },
    "id": "XPUSC3bSc-_-",
    "outputId": "d834cc97-76d7-4cb4-e627-e464c9960d42"
   },
   "outputs": [],
   "source": [
    "origin_destination_weather_traffic_merge.head(5)"
   ]
  },
  {
   "cell_type": "code",
   "execution_count": null,
   "metadata": {
    "colab": {
     "base_uri": "https://localhost:8080/"
    },
    "id": "APZ2E1xod1mB",
    "outputId": "0e8c5312-2bd5-47a2-a464-4eef666258b1"
   },
   "outputs": [],
   "source": [
    "schedule_weather_merge.columns.intersection(origin_destination_weather_traffic_merge.columns)"
   ]
  },
  {
   "cell_type": "code",
   "execution_count": null,
   "metadata": {
    "id": "K08Zrks3d1iu"
   },
   "outputs": [],
   "source": [
    "merged_data_weather_traffic=pd.merge(schedule_weather_merge, origin_destination_weather_traffic_merge, on=['unique_id', 'truck_id', 'route_id', 'departure_date',\n",
    "       'estimated_arrival', 'delay'], how='left')"
   ]
  },
  {
   "cell_type": "code",
   "execution_count": null,
   "metadata": {
    "id": "u9UxwOghd1gj"
   },
   "outputs": [],
   "source": [
    "merged_data_weather_traffic_trucks = pd.merge(merged_data_weather_traffic, trucks_df, on='truck_id', how='left')\n",
    "\n",
    "# Merge merged_data with truck_data based on 'truck_id' column (Left Join)\n",
    "final_merge = pd.merge(merged_data_weather_traffic_trucks, drivers_df, left_on='truck_id', right_on = 'vehicle_no', how='left')"
   ]
  },
  {
   "cell_type": "code",
   "execution_count": null,
   "metadata": {
    "colab": {
     "base_uri": "https://localhost:8080/"
    },
    "id": "cLUIeOqYd1eq",
    "outputId": "c175efcf-6913-43a2-9733-a2bd3b087bb8"
   },
   "outputs": [],
   "source": [
    "final_merge.shape"
   ]
  },
  {
   "cell_type": "code",
   "execution_count": null,
   "metadata": {
    "colab": {
     "base_uri": "https://localhost:8080/",
     "height": 313
    },
    "id": "Pq2039uwd1cn",
    "outputId": "848248e3-e9e0-4b1d-94a1-b9b8f2acd127"
   },
   "outputs": [],
   "source": [
    "final_merge.head(5)"
   ]
  },
  {
   "cell_type": "code",
   "execution_count": null,
   "metadata": {
    "id": "GtnQ4BYBiHan"
   },
   "outputs": [],
   "source": [
    "# Function to check if there is nighttime involved between arrival and departure time\n",
    "def has_midnight(start, end):\n",
    "    return int(start.date() != end.date())\n",
    "\n",
    "\n",
    "# Apply the function to create a new column indicating nighttime involvement\n",
    "final_merge['is_midnight'] = final_merge.apply(lambda row: has_midnight(row['departure_date'], row['estimated_arrival']), axis=1)"
   ]
  },
  {
   "cell_type": "code",
   "execution_count": null,
   "metadata": {
    "colab": {
     "base_uri": "https://localhost:8080/",
     "height": 634
    },
    "id": "jclRQJNLisch",
    "outputId": "86ed2a58-4c25-40d2-b2bd-f048632ed7b9"
   },
   "outputs": [],
   "source": [
    "final_merge[final_merge['is_midnight']==1]"
   ]
  },
  {
   "cell_type": "markdown",
   "metadata": {
    "id": "Yai81AADDHZG"
   },
   "source": [
    "## **Feature Store for Final Dataset**"
   ]
  },
  {
   "cell_type": "code",
   "execution_count": null,
   "metadata": {
    "id": "lHt2R6-KDMBn"
   },
   "outputs": [],
   "source": [
    "fs_data = final_merge.sort_values([\"estimated_arrival\",\"unique_id\"])"
   ]
  },
  {
   "cell_type": "code",
   "execution_count": null,
   "metadata": {
    "colab": {
     "base_uri": "https://localhost:8080/",
     "height": 36
    },
    "id": "VmsncoR7DS6y",
    "outputId": "26634771-f485-46a6-eccc-9886dfd12d36"
   },
   "outputs": [],
   "source": [
    "'''import hopsworks\n",
    "\n",
    "project = hopsworks.login()\n",
    "fs = project.get_feature_store()'''"
   ]
  },
  {
   "cell_type": "code",
   "execution_count": null,
   "metadata": {
    "id": "oY9SXvZZDS3H"
   },
   "outputs": [],
   "source": [
    "truck_eta_fg = fs.get_or_create_feature_group(\n",
    "    name=\"final_data\",\n",
    "    version=1,\n",
    "    description=\"Truck ETA Final Data\",\n",
    "    primary_key=['unique_id'],\n",
    "    event_time='estimated_arrival',\n",
    "    online_enabled=True,\n",
    ")"
   ]
  },
  {
   "cell_type": "code",
   "execution_count": null,
   "metadata": {
    "colab": {
     "base_uri": "https://localhost:8080/"
    },
    "id": "S_l0YMTimJTZ",
    "outputId": "5fb149f9-249a-4646-8b41-993d031da41f"
   },
   "outputs": [],
   "source": [
    "fs_data.isna().sum()"
   ]
  },
  {
   "cell_type": "code",
   "execution_count": null,
   "metadata": {
    "colab": {
     "base_uri": "https://localhost:8080/"
    },
    "id": "_YzvuEcxmrbv",
    "outputId": "cb011fe6-82ee-43f6-d442-86507e1d75d5"
   },
   "outputs": [],
   "source": [
    "fs_data.dtypes"
   ]
  },
  {
   "cell_type": "code",
   "execution_count": null,
   "metadata": {
    "id": "Nt6625h6mzaQ"
   },
   "outputs": [],
   "source": [
    "fs_data['origin_description'] = fs_data['origin_description'].fillna(\"Unknown\")"
   ]
  },
  {
   "cell_type": "code",
   "execution_count": null,
   "metadata": {
    "colab": {
     "base_uri": "https://localhost:8080/",
     "height": 153,
     "referenced_widgets": [
      "b7e5a40520ba4ac6a3013e9c1cf37163",
      "d5c40e60ae92402bb0cb1f8db13fcb2c",
      "f1c793e9acf349af94cb71a3de89c1a6",
      "7ad2943e45bc425abdb426c1350098b4",
      "175c40b672f5440d8c4ef0d62eae6199",
      "9fb26335d047466bb1732eecb5580e7f",
      "f4277a15a4094674b7f63ee84acde92e",
      "127ac12865c84c4cb7ba8a8f045e5255",
      "abb0cd9730c64203ae11ebe0583cd840",
      "26a251a95a8f4a50af37ec4aa88b9f3c",
      "e7a9522709f744d98925267ef1403f78"
     ]
    },
    "id": "Ar0e_fkpDW70",
    "outputId": "960c52de-352d-49c8-9599-5448ff049d50"
   },
   "outputs": [],
   "source": [
    "truck_eta_fg.insert(fs_data)"
   ]
  },
  {
   "cell_type": "code",
   "execution_count": null,
   "metadata": {
    "id": "wrRvsTdyDY1H"
   },
   "outputs": [],
   "source": [
    "final_feature_descriptions = [\n",
    "    {\"name\": 'unique_id', \"description\": \"the unique identifier for each record\"},\n",
    "    {\"name\": 'truck_id', \"description\": \"the unique identifier of the truck\"},\n",
    "    {\"name\": 'route_id', \"description\": \"the unique identifier of the route\"},\n",
    "    {\"name\": 'departure_date', \"description\": \"departure DateTime of the truck\"},\n",
    "    {\"name\": 'estimated_arrival', \"description\": \"estimated arrival DateTime of the truck\"},\n",
    "    {\"name\": 'delay', \"description\": \"binary variable if the truck’s arrival was delayed, 0 for on-time arrival and 1 for delayed arrival\"},\n",
    "    {\"name\": 'route_avg_temp', \"description\":  'Average temperature in Fahrenheit'},\n",
    "    {\"name\": 'route_avg_wind_speed', \"description\":  'Average wind speed in miles per hour'},\n",
    "    {\"name\": 'route_avg_precip', \"description\":  'Average precipitation in inches'},\n",
    "    {\"name\": 'route_avg_humidity', \"description\":  'Average humidity observed'},\n",
    "    {\"name\": 'route_avg_visibility', \"description\":  'Average visibility observed in miles per hour'},\n",
    "    {\"name\": 'route_avg_pressure', \"description\":  'Average pressure observed in millibar'},\n",
    "    {\"name\": 'route_description', \"description\":  'description of the weather conditions such as Clear, Cloudy, etc'},\n",
    "    {\"name\": 'estimated_arrival_nearest_hour', \"description\":  'estimated arrival DateTime of the truck'},\n",
    "    {\"name\": 'departure_date_nearest_hour', \"description\":  'departure DateTime of the truck'},\n",
    "    {\"name\": 'origin_id', \"description\": \"the city identification number for the origin city\"},\n",
    "    {\"name\": 'destination_id', \"description\": \" the city identification number for the destination\"},\n",
    "    {\"name\": 'distance', \"description\": \" the distance between the origin and destination cities in miles\"},\n",
    "    {\"name\": 'average_hours', \"description\": \"average time needed to travel from the origin to the destination in hours\"},\n",
    "    {\"name\": 'origin_temp', \"description\":  'temperature in Fahrenheit'},\n",
    "    {\"name\": 'origin_wind_speed', \"description\":  'wind speed in miles per hour'},\n",
    "    {\"name\": 'origin_description', \"description\":  'description of the weather conditions such as Clear, Cloudy, etc'},\n",
    "    {\"name\": 'origin_precip', \"description\":  'precipitation in inches'},\n",
    "    {\"name\": 'origin_humidity', \"description\":  'humidity observed'},\n",
    "    {\"name\": 'origin_visibility', \"description\":  'visibility observed in miles per hour'},\n",
    "    {\"name\": 'origin_pressure', \"description\":  'pressure observed in millibar'},\n",
    "    {\"name\": 'destination_temp', \"description\":  'temperature in Fahrenheit'},\n",
    "    {\"name\": 'destination_wind_speed', \"description\":  'wind speed in miles per hour'},\n",
    "    {\"name\": 'destination_description', \"description\":  'description of the weather conditions such as Clear, Cloudy, etc'},\n",
    "    {\"name\": 'destination_precip', \"description\":  'precipitation in inches'},\n",
    "    {\"name\": 'destination_humidity', \"description\":  'humidity observed'},\n",
    "    {\"name\": 'destination_visibility', \"description\":  'visibility observed in miles per hour'},\n",
    "    {\"name\": 'destination_pressure', \"description\":  'pressure observed in millibar'},\n",
    "    {\"name\": 'avg_no_of_vehicles', \"description\": \"the average number of vehicles observed on the route\"},\n",
    "    {\"name\": 'accident', \"description\": \"binary variable to denote if an accident was observed\"},\n",
    "    {\"name\":'truck_age',\"description\":\"age of the truck in years\"},\n",
    "    {\"name\":'load_capacity_pounds',\"description\":\"loading capacity of the truck in years\"},\n",
    "    {\"name\":'mileage_mpg',\"description\": \"mileage of the truck in miles per gallon\"},\n",
    "    {\"name\":'fuel_type',\"description\":\"fuel type of the truck\"},\n",
    "    {\"name\": \"driver_id\", \"description\": \"unique identification for each driver\"},\n",
    "    {\"name\": \"name\", \"description\": \" name of the truck driver\"},\n",
    "    {\"name\": \"gender\", \"description\": \"gender of the truck driver\"},\n",
    "    {\"name\": \"age\", \"description\": \"age of the truck driver\"},\n",
    "    {\"name\": \"experience\", \"description\": \" experience of the truck driver in years\"},\n",
    "    {\"name\": \"driving_style\", \"description\": \"driving style of the truck driver, conservative or proactive\"},\n",
    "    {\"name\": \"ratings\", \"description\": \"average rating of the truck driver on a scale of 1 to 5\"},\n",
    "    {\"name\": \"vehicle_no\", \"description\": \"the number of the driver’s truck\"},\n",
    "    {\"name\": \"average_speed_mph\", \"description\": \"average speed the truck driver in miles per hour\"},\n",
    "    {\"name\": 'is_midnight', \"description\": \"binary variable to denote if it was midnight\"}\n",
    "\n",
    "]\n",
    "\n",
    "for desc in final_feature_descriptions:\n",
    "    truck_eta_fg.update_feature_description(desc[\"name\"], desc[\"description\"])"
   ]
  },
  {
   "cell_type": "code",
   "execution_count": null,
   "metadata": {
    "colab": {
     "base_uri": "https://localhost:8080/"
    },
    "id": "4vuTsi3oDmtX",
    "outputId": "b55d3b24-8e46-4147-d57b-7cd0f1804f06"
   },
   "outputs": [],
   "source": [
    "truck_eta_fg = fs.get_or_create_feature_group(\"final_data\", version=1)\n",
    "truck_eta_fg.statistics_config = {\n",
    "    \"enabled\": True,\n",
    "    \"histograms\": True,\n",
    "    \"correlations\": True\n",
    "}\n",
    "\n",
    "truck_eta_fg.update_statistics_config()\n",
    "truck_eta_fg.compute_statistics()"
   ]
  },
  {
   "cell_type": "markdown",
   "metadata": {
    "id": "oZF9KgGjzHos"
   },
   "source": [
    "## **Conclusion**\n",
    "\n",
    "\n",
    "We delved into data analysis using SQL and did some exploratory data analysis to understand our data better. We also learned about feature stores and how they help in machine learning projects.\n",
    "\n",
    "We fetched data from feature stores, did some feature engineering, and stored our final features in the feature store.\n",
    "\n",
    "In the next part, we will dive into model building techniques and explore APIs and related topics. In the final part, we will construct a complete CICD pipeline for this project and learn how to trigger it. We've got a lot more exciting content coming up!"
   ]
  }
 ],
 "metadata": {
  "colab": {
   "provenance": []
  },
  "kernelspec": {
   "display_name": "Python 3",
   "name": "python3"
  },
  "language_info": {
   "name": "python"
  }
 },
 "nbformat": 4,
 "nbformat_minor": 0
}
